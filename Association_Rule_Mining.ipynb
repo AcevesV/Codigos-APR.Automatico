{
 "cells": [
  {
   "cell_type": "markdown",
   "id": "7dcb6bb8",
   "metadata": {},
   "source": [
    "# Association Rule Mining on Real Data"
   ]
  },
  {
   "cell_type": "markdown",
   "id": "9fa8fa2c",
   "metadata": {},
   "source": [
    "This notebook demonstrates how to perform association rule mining using real-world data. The steps include data preprocessing, frequent itemset generation, and association rule mining."
   ]
  },
  {
   "cell_type": "markdown",
   "id": "96bc7bce",
   "metadata": {},
   "source": [
    "## Step 1: Import Libraries"
   ]
  },
  {
   "cell_type": "code",
   "execution_count": null,
   "id": "c51ce92f",
   "metadata": {},
   "outputs": [],
   "source": [
    "import pandas as pd\n",
    "import numpy as np\n",
    "from mlxtend.frequent_patterns import apriori, association_rules"
   ]
  },
  {
   "cell_type": "markdown",
   "id": "6c5842c0",
   "metadata": {},
   "source": [
    "## Step 2: Load Dataset"
   ]
  },
  {
   "cell_type": "code",
   "execution_count": null,
   "id": "44490203",
   "metadata": {},
   "outputs": [],
   "source": [
    "# Sample dataset: Online Retail\n",
    "data = pd.read_excel('https://archive.ics.uci.edu/ml/machine-learning-databases/00352/Online%20Retail.xlsx')\n",
    "data.head()"
   ]
  },
  {
   "cell_type": "markdown",
   "id": "01b0f225",
   "metadata": {},
   "source": [
    "## Step 3: Data Preprocessing"
   ]
  },
  {
   "cell_type": "code",
   "execution_count": null,
   "id": "2e3b072f",
   "metadata": {},
   "outputs": [],
   "source": [
    "# Removing NaNs\n",
    "data.dropna(axis=0, subset=['InvoiceNo'], inplace=True)\n",
    "data['InvoiceNo'] = data['InvoiceNo'].astype('str')\n",
    "\n",
    "# Remove canceled orders\n",
    "data = data[~data['InvoiceNo'].str.contains('C')]\n",
    "\n",
    "# Create a basket for each country\n",
    "basket = (data[data['Country'] ==\"France\"]\n",
    "          .groupby(['InvoiceNo', 'Description'])['Quantity']\n",
    "          .sum().unstack().reset_index().fillna(0)\n",
    "          .set_index('InvoiceNo'))"
   ]
  },
  {
   "cell_type": "markdown",
   "id": "dcbe6213",
   "metadata": {},
   "source": [
    "## Step 4: Hot Encoding the Data"
   ]
  },
  {
   "cell_type": "code",
   "execution_count": null,
   "id": "6afcf3a7",
   "metadata": {},
   "outputs": [],
   "source": [
    "def hot_encode(x):\n",
    "    if x <= 0:\n",
    "        return 0\n",
    "    if x >= 1:\n",
    "        return 1\n",
    "\n",
    "basket_encoded = basket.applymap(hot_encode)\n",
    "basket_encoded.drop('POSTAGE', inplace=True, axis=1)\n",
    "basket_encoded.head()"
   ]
  },
  {
   "cell_type": "markdown",
   "id": "d0adc19c",
   "metadata": {},
   "source": [
    "## Step 5: Frequent Itemsets Generation"
   ]
  },
  {
   "cell_type": "code",
   "execution_count": null,
   "id": "a577febb",
   "metadata": {},
   "outputs": [],
   "source": [
    "# Generating frequent itemsets\n",
    "frequent_itemsets = apriori(basket_encoded, min_support=0.07, use_colnames=True)\n",
    "frequent_itemsets.sort_values('support', ascending=False).head()"
   ]
  },
  {
   "cell_type": "markdown",
   "id": "762e9c40",
   "metadata": {},
   "source": [
    "## Step 6: Mining Association Rules"
   ]
  },
  {
   "cell_type": "code",
   "execution_count": null,
   "id": "86d28263",
   "metadata": {},
   "outputs": [],
   "source": [
    "# Generating association rules\n",
    "rules = association_rules(frequent_itemsets, metric=\"lift\", min_threshold=1)\n",
    "rules.head()"
   ]
  },
  {
   "cell_type": "markdown",
   "id": "08b594f8",
   "metadata": {},
   "source": [
    "## Insights"
   ]
  },
  {
   "cell_type": "markdown",
   "id": "23a37b60",
   "metadata": {},
   "source": [
    "Review the results of the association rules to derive meaningful insights."
   ]
  }
 ],
 "metadata": {},
 "nbformat": 4,
 "nbformat_minor": 5
}
