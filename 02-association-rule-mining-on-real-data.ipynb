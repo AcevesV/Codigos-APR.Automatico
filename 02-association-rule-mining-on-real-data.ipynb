{
 "cells": [
  {
   "cell_type": "markdown",
   "id": "88ed2ae5",
   "metadata": {
    "papermill": {
     "duration": 0.015316,
     "end_time": "2022-07-12T05:56:17.612716",
     "exception": false,
     "start_time": "2022-07-12T05:56:17.597400",
     "status": "completed"
    },
    "tags": []
   },
   "source": [
    "### Import libraries"
   ]
  },
  {
   "cell_type": "code",
   "execution_count": 1,
   "id": "f41b8cf8",
   "metadata": {
    "execution": {
     "iopub.execute_input": "2022-07-12T05:56:17.639194Z",
     "iopub.status.busy": "2022-07-12T05:56:17.638504Z",
     "iopub.status.idle": "2022-07-12T05:56:17.670025Z",
     "shell.execute_reply": "2022-07-12T05:56:17.669009Z"
    },
    "papermill": {
     "duration": 0.046732,
     "end_time": "2022-07-12T05:56:17.672885",
     "exception": false,
     "start_time": "2022-07-12T05:56:17.626153",
     "status": "completed"
    },
    "tags": []
   },
   "outputs": [],
   "source": [
    "import pandas as pd\n",
    "import numpy as np\n",
    "import matplotlib.pyplot as plt\n",
    "\n",
    "from mlxtend.frequent_patterns import apriori\n",
    "from mlxtend.frequent_patterns import association_rules"
   ]
  },
  {
   "cell_type": "markdown",
   "id": "c8549084",
   "metadata": {
    "papermill": {
     "duration": 0.008426,
     "end_time": "2022-07-12T05:56:17.690673",
     "exception": false,
     "start_time": "2022-07-12T05:56:17.682247",
     "status": "completed"
    },
    "tags": []
   },
   "source": [
    "### Load and read datasets from local disk"
   ]
  },
  {
   "cell_type": "markdown",
   "id": "ea2e25bf",
   "metadata": {
    "papermill": {
     "duration": 0.009532,
     "end_time": "2022-07-12T05:56:17.708859",
     "exception": false,
     "start_time": "2022-07-12T05:56:17.699327",
     "status": "completed"
    },
    "tags": []
   },
   "source": [
    "Source: https://www.kaggle.com/sulmansarwar/transactions-from-a-bakery\n",
    "\n",
    "About Data:- \n",
    "\n",
    "__The dataset consists of 21293 observations from a bakery. The data file contains four variables, Date, Time, Transaction ID and Item. Transaction ID ranges from 1 through 9684. However, there are some skipped numbers in Transaction IDs. Also, there are duplicated entries, as shown in observation # 2 and #3. Besides, the Item contains \"Adjustment\", \"NONE\", and \"Afternoon with the baker\". While the entries of \"Adjustment\" and \"NONE\" are straight forward, \"Afternoon with the baker\" may be a real purchase.__\n",
    "\n",
    "\n",
    "Columns:-\n",
    "Date\n",
    "Time\n",
    "Transaction\n",
    "Item"
   ]
  },
  {
   "cell_type": "markdown",
   "id": "a7e101d2",
   "metadata": {
    "papermill": {
     "duration": 0.008248,
     "end_time": "2022-07-12T05:56:17.725739",
     "exception": false,
     "start_time": "2022-07-12T05:56:17.717491",
     "status": "completed"
    },
    "tags": []
   },
   "source": [
    "### Read and Load dataset from local disk"
   ]
  },
  {
   "cell_type": "code",
   "execution_count": 2,
   "id": "08011222",
   "metadata": {
    "execution": {
     "iopub.execute_input": "2022-07-12T05:56:17.744881Z",
     "iopub.status.busy": "2022-07-12T05:56:17.744478Z",
     "iopub.status.idle": "2022-07-12T05:56:17.810882Z",
     "shell.execute_reply": "2022-07-12T05:56:17.809660Z"
    },
    "papermill": {
     "duration": 0.078977,
     "end_time": "2022-07-12T05:56:17.813459",
     "exception": false,
     "start_time": "2022-07-12T05:56:17.734482",
     "status": "completed"
    },
    "tags": []
   },
   "outputs": [
    {
     "data": {
      "text/html": [
       "<div>\n",
       "<style scoped>\n",
       "    .dataframe tbody tr th:only-of-type {\n",
       "        vertical-align: middle;\n",
       "    }\n",
       "\n",
       "    .dataframe tbody tr th {\n",
       "        vertical-align: top;\n",
       "    }\n",
       "\n",
       "    .dataframe thead th {\n",
       "        text-align: right;\n",
       "    }\n",
       "</style>\n",
       "<table border=\"1\" class=\"dataframe\">\n",
       "  <thead>\n",
       "    <tr style=\"text-align: right;\">\n",
       "      <th></th>\n",
       "      <th>Date</th>\n",
       "      <th>Time</th>\n",
       "      <th>Transaction</th>\n",
       "      <th>Item</th>\n",
       "    </tr>\n",
       "  </thead>\n",
       "  <tbody>\n",
       "    <tr>\n",
       "      <th>0</th>\n",
       "      <td>2016-10-30</td>\n",
       "      <td>09:58:11</td>\n",
       "      <td>1</td>\n",
       "      <td>Bread</td>\n",
       "    </tr>\n",
       "    <tr>\n",
       "      <th>1</th>\n",
       "      <td>2016-10-30</td>\n",
       "      <td>10:05:34</td>\n",
       "      <td>2</td>\n",
       "      <td>Scandinavian</td>\n",
       "    </tr>\n",
       "    <tr>\n",
       "      <th>2</th>\n",
       "      <td>2016-10-30</td>\n",
       "      <td>10:05:34</td>\n",
       "      <td>2</td>\n",
       "      <td>Scandinavian</td>\n",
       "    </tr>\n",
       "    <tr>\n",
       "      <th>3</th>\n",
       "      <td>2016-10-30</td>\n",
       "      <td>10:07:57</td>\n",
       "      <td>3</td>\n",
       "      <td>Hot chocolate</td>\n",
       "    </tr>\n",
       "    <tr>\n",
       "      <th>4</th>\n",
       "      <td>2016-10-30</td>\n",
       "      <td>10:07:57</td>\n",
       "      <td>3</td>\n",
       "      <td>Jam</td>\n",
       "    </tr>\n",
       "    <tr>\n",
       "      <th>5</th>\n",
       "      <td>2016-10-30</td>\n",
       "      <td>10:07:57</td>\n",
       "      <td>3</td>\n",
       "      <td>Cookies</td>\n",
       "    </tr>\n",
       "    <tr>\n",
       "      <th>6</th>\n",
       "      <td>2016-10-30</td>\n",
       "      <td>10:08:41</td>\n",
       "      <td>4</td>\n",
       "      <td>Muffin</td>\n",
       "    </tr>\n",
       "    <tr>\n",
       "      <th>7</th>\n",
       "      <td>2016-10-30</td>\n",
       "      <td>10:13:03</td>\n",
       "      <td>5</td>\n",
       "      <td>Coffee</td>\n",
       "    </tr>\n",
       "    <tr>\n",
       "      <th>8</th>\n",
       "      <td>2016-10-30</td>\n",
       "      <td>10:13:03</td>\n",
       "      <td>5</td>\n",
       "      <td>Pastry</td>\n",
       "    </tr>\n",
       "    <tr>\n",
       "      <th>9</th>\n",
       "      <td>2016-10-30</td>\n",
       "      <td>10:13:03</td>\n",
       "      <td>5</td>\n",
       "      <td>Bread</td>\n",
       "    </tr>\n",
       "  </tbody>\n",
       "</table>\n",
       "</div>"
      ],
      "text/plain": [
       "         Date      Time  Transaction           Item\n",
       "0  2016-10-30  09:58:11            1          Bread\n",
       "1  2016-10-30  10:05:34            2   Scandinavian\n",
       "2  2016-10-30  10:05:34            2   Scandinavian\n",
       "3  2016-10-30  10:07:57            3  Hot chocolate\n",
       "4  2016-10-30  10:07:57            3            Jam\n",
       "5  2016-10-30  10:07:57            3        Cookies\n",
       "6  2016-10-30  10:08:41            4         Muffin\n",
       "7  2016-10-30  10:13:03            5         Coffee\n",
       "8  2016-10-30  10:13:03            5         Pastry\n",
       "9  2016-10-30  10:13:03            5          Bread"
      ]
     },
     "execution_count": 2,
     "metadata": {},
     "output_type": "execute_result"
    }
   ],
   "source": [
    "bread_basket_data = pd.read_csv('../input/affinity-analysis/BreadBasket_DMS.csv')\n",
    "\n",
    "bread_basket_data.head(10)"
   ]
  },
  {
   "cell_type": "markdown",
   "id": "76dd1706",
   "metadata": {
    "papermill": {
     "duration": 0.008798,
     "end_time": "2022-07-12T05:56:17.831271",
     "exception": false,
     "start_time": "2022-07-12T05:56:17.822473",
     "status": "completed"
    },
    "tags": []
   },
   "source": [
    "### Shape of dataset"
   ]
  },
  {
   "cell_type": "code",
   "execution_count": 3,
   "id": "4265a751",
   "metadata": {
    "execution": {
     "iopub.execute_input": "2022-07-12T05:56:17.852890Z",
     "iopub.status.busy": "2022-07-12T05:56:17.851905Z",
     "iopub.status.idle": "2022-07-12T05:56:17.860061Z",
     "shell.execute_reply": "2022-07-12T05:56:17.858878Z"
    },
    "papermill": {
     "duration": 0.022256,
     "end_time": "2022-07-12T05:56:17.862687",
     "exception": false,
     "start_time": "2022-07-12T05:56:17.840431",
     "status": "completed"
    },
    "tags": []
   },
   "outputs": [
    {
     "data": {
      "text/plain": [
       "(21293, 4)"
      ]
     },
     "execution_count": 3,
     "metadata": {},
     "output_type": "execute_result"
    }
   ],
   "source": [
    "bread_basket_data.shape"
   ]
  },
  {
   "cell_type": "markdown",
   "id": "f1b54aca",
   "metadata": {
    "papermill": {
     "duration": 0.008996,
     "end_time": "2022-07-12T05:56:17.880989",
     "exception": false,
     "start_time": "2022-07-12T05:56:17.871993",
     "status": "completed"
    },
    "tags": []
   },
   "source": [
    "### Check `NONE` values"
   ]
  },
  {
   "cell_type": "code",
   "execution_count": 4,
   "id": "5f139acd",
   "metadata": {
    "execution": {
     "iopub.execute_input": "2022-07-12T05:56:17.901961Z",
     "iopub.status.busy": "2022-07-12T05:56:17.901134Z",
     "iopub.status.idle": "2022-07-12T05:56:17.926024Z",
     "shell.execute_reply": "2022-07-12T05:56:17.924871Z"
    },
    "papermill": {
     "duration": 0.038317,
     "end_time": "2022-07-12T05:56:17.928653",
     "exception": false,
     "start_time": "2022-07-12T05:56:17.890336",
     "status": "completed"
    },
    "tags": []
   },
   "outputs": [
    {
     "data": {
      "text/plain": [
       "Date           786\n",
       "Time           786\n",
       "Transaction    786\n",
       "Item           786\n",
       "dtype: int64"
      ]
     },
     "execution_count": 4,
     "metadata": {},
     "output_type": "execute_result"
    }
   ],
   "source": [
    "bread_basket_data.loc[bread_basket_data['Item'] == 'NONE'].count()"
   ]
  },
  {
   "cell_type": "markdown",
   "id": "bd86d4fd",
   "metadata": {
    "papermill": {
     "duration": 0.009585,
     "end_time": "2022-07-12T05:56:17.948019",
     "exception": false,
     "start_time": "2022-07-12T05:56:17.938434",
     "status": "completed"
    },
    "tags": []
   },
   "source": [
    "### Remove `NONE` values from dataset"
   ]
  },
  {
   "cell_type": "code",
   "execution_count": 5,
   "id": "ea1c3209",
   "metadata": {
    "execution": {
     "iopub.execute_input": "2022-07-12T05:56:17.969500Z",
     "iopub.status.busy": "2022-07-12T05:56:17.968747Z",
     "iopub.status.idle": "2022-07-12T05:56:17.978643Z",
     "shell.execute_reply": "2022-07-12T05:56:17.977500Z"
    },
    "papermill": {
     "duration": 0.023369,
     "end_time": "2022-07-12T05:56:17.981025",
     "exception": false,
     "start_time": "2022-07-12T05:56:17.957656",
     "status": "completed"
    },
    "tags": []
   },
   "outputs": [],
   "source": [
    "bread_basket_data = bread_basket_data.drop(\n",
    "    bread_basket_data.loc[bread_basket_data['Item'] == 'NONE'].index)"
   ]
  },
  {
   "cell_type": "markdown",
   "id": "0ddfa528",
   "metadata": {
    "papermill": {
     "duration": 0.008978,
     "end_time": "2022-07-12T05:56:17.999566",
     "exception": false,
     "start_time": "2022-07-12T05:56:17.990588",
     "status": "completed"
    },
    "tags": []
   },
   "source": [
    "### Again check `NONE` or `NAN` values"
   ]
  },
  {
   "cell_type": "code",
   "execution_count": 6,
   "id": "8a5cafa7",
   "metadata": {
    "execution": {
     "iopub.execute_input": "2022-07-12T05:56:18.021337Z",
     "iopub.status.busy": "2022-07-12T05:56:18.020843Z",
     "iopub.status.idle": "2022-07-12T05:56:18.031287Z",
     "shell.execute_reply": "2022-07-12T05:56:18.030350Z"
    },
    "papermill": {
     "duration": 0.023729,
     "end_time": "2022-07-12T05:56:18.033185",
     "exception": false,
     "start_time": "2022-07-12T05:56:18.009456",
     "status": "completed"
    },
    "tags": []
   },
   "outputs": [
    {
     "data": {
      "text/plain": [
       "Date           0\n",
       "Time           0\n",
       "Transaction    0\n",
       "Item           0\n",
       "dtype: int64"
      ]
     },
     "execution_count": 6,
     "metadata": {},
     "output_type": "execute_result"
    }
   ],
   "source": [
    "bread_basket_data.loc[bread_basket_data['Item'] == 'NONE'].count()"
   ]
  },
  {
   "cell_type": "markdown",
   "id": "4419c291",
   "metadata": {
    "papermill": {
     "duration": 0.009279,
     "end_time": "2022-07-12T05:56:18.052039",
     "exception": false,
     "start_time": "2022-07-12T05:56:18.042760",
     "status": "completed"
    },
    "tags": []
   },
   "source": [
    "### Shape of dataset after removing `NONE` values"
   ]
  },
  {
   "cell_type": "code",
   "execution_count": 7,
   "id": "686b0d5d",
   "metadata": {
    "execution": {
     "iopub.execute_input": "2022-07-12T05:56:18.073424Z",
     "iopub.status.busy": "2022-07-12T05:56:18.072636Z",
     "iopub.status.idle": "2022-07-12T05:56:18.078874Z",
     "shell.execute_reply": "2022-07-12T05:56:18.078022Z"
    },
    "papermill": {
     "duration": 0.019445,
     "end_time": "2022-07-12T05:56:18.081033",
     "exception": false,
     "start_time": "2022-07-12T05:56:18.061588",
     "status": "completed"
    },
    "tags": []
   },
   "outputs": [
    {
     "data": {
      "text/plain": [
       "(20507, 4)"
      ]
     },
     "execution_count": 7,
     "metadata": {},
     "output_type": "execute_result"
    }
   ],
   "source": [
    "bread_basket_data.shape"
   ]
  },
  {
   "cell_type": "markdown",
   "id": "3640b49c",
   "metadata": {
    "papermill": {
     "duration": 0.009689,
     "end_time": "2022-07-12T05:56:18.100343",
     "exception": false,
     "start_time": "2022-07-12T05:56:18.090654",
     "status": "completed"
    },
    "tags": []
   },
   "source": [
    "### Check unique values in `item set`"
   ]
  },
  {
   "cell_type": "code",
   "execution_count": 8,
   "id": "ee5655ee",
   "metadata": {
    "execution": {
     "iopub.execute_input": "2022-07-12T05:56:18.121735Z",
     "iopub.status.busy": "2022-07-12T05:56:18.120969Z",
     "iopub.status.idle": "2022-07-12T05:56:18.130355Z",
     "shell.execute_reply": "2022-07-12T05:56:18.129629Z"
    },
    "papermill": {
     "duration": 0.022385,
     "end_time": "2022-07-12T05:56:18.132268",
     "exception": false,
     "start_time": "2022-07-12T05:56:18.109883",
     "status": "completed"
    },
    "tags": []
   },
   "outputs": [
    {
     "data": {
      "text/plain": [
       "array(['Bread', 'Scandinavian', 'Hot chocolate', 'Jam', 'Cookies',\n",
       "       'Muffin', 'Coffee', 'Pastry', 'Medialuna', 'Tea', 'Tartine',\n",
       "       'Basket', 'Mineral water', 'Farm House', 'Fudge', 'Juice',\n",
       "       \"Ella's Kitchen Pouches\", 'Victorian Sponge', 'Frittata',\n",
       "       'Hearty & Seasonal', 'Soup', 'Pick and Mix Bowls', 'Smoothies',\n",
       "       'Cake', 'Mighty Protein', 'Chicken sand', 'Coke',\n",
       "       'My-5 Fruit Shoot', 'Focaccia', 'Sandwich', 'Alfajores', 'Eggs',\n",
       "       'Brownie', 'Dulce de Leche', 'Honey', 'The BART', 'Granola',\n",
       "       'Fairy Doors', 'Empanadas', 'Keeping It Local', 'Art Tray',\n",
       "       'Bowl Nic Pitt', 'Bread Pudding', 'Adjustment', 'Truffles',\n",
       "       'Chimichurri Oil', 'Bacon', 'Spread', 'Kids biscuit', 'Siblings',\n",
       "       'Caramel bites', 'Jammie Dodgers', 'Tiffin', 'Olum & polenta',\n",
       "       'Polenta', 'The Nomad', 'Hack the stack', 'Bakewell',\n",
       "       'Lemon and coconut', 'Toast', 'Scone', 'Crepes', 'Vegan mincepie',\n",
       "       'Bare Popcorn', 'Muesli', 'Crisps', 'Pintxos', 'Gingerbread syrup',\n",
       "       'Panatone', 'Brioche and salami', 'Afternoon with the baker',\n",
       "       'Salad', 'Chicken Stew', 'Spanish Brunch',\n",
       "       'Raspberry shortbread sandwich', 'Extra Salami or Feta',\n",
       "       'Duck egg', 'Baguette', \"Valentine's card\", 'Tshirt',\n",
       "       'Vegan Feast', 'Postcard', 'Nomad bag', 'Chocolates',\n",
       "       'Coffee granules ', 'Drinking chocolate spoons ',\n",
       "       'Christmas common', 'Argentina Night', 'Half slice Monster ',\n",
       "       'Gift voucher', 'Cherry me Dried fruit', 'Mortimer', 'Raw bars',\n",
       "       'Tacos/Fajita'], dtype=object)"
      ]
     },
     "execution_count": 8,
     "metadata": {},
     "output_type": "execute_result"
    }
   ],
   "source": [
    "bread_basket_data['Item'].unique()"
   ]
  },
  {
   "cell_type": "markdown",
   "id": "82bdc430",
   "metadata": {
    "papermill": {
     "duration": 0.010257,
     "end_time": "2022-07-12T05:56:18.152153",
     "exception": false,
     "start_time": "2022-07-12T05:56:18.141896",
     "status": "completed"
    },
    "tags": []
   },
   "source": [
    "### Calculating Frequency of each item"
   ]
  },
  {
   "cell_type": "code",
   "execution_count": 9,
   "id": "52e8f6a8",
   "metadata": {
    "execution": {
     "iopub.execute_input": "2022-07-12T05:56:18.174822Z",
     "iopub.status.busy": "2022-07-12T05:56:18.174002Z",
     "iopub.status.idle": "2022-07-12T05:56:18.185540Z",
     "shell.execute_reply": "2022-07-12T05:56:18.184217Z"
    },
    "papermill": {
     "duration": 0.025972,
     "end_time": "2022-07-12T05:56:18.188014",
     "exception": false,
     "start_time": "2022-07-12T05:56:18.162042",
     "status": "completed"
    },
    "tags": []
   },
   "outputs": [],
   "source": [
    "basket_items = {}\n",
    "\n",
    "for item in bread_basket_data['Item']:\n",
    "    if item in basket_items:\n",
    "        basket_items[item] = basket_items[item] + 1\n",
    "    else:\n",
    "        basket_items[item] = 1"
   ]
  },
  {
   "cell_type": "code",
   "execution_count": 10,
   "id": "9840642b",
   "metadata": {
    "execution": {
     "iopub.execute_input": "2022-07-12T05:56:18.210569Z",
     "iopub.status.busy": "2022-07-12T05:56:18.209719Z",
     "iopub.status.idle": "2022-07-12T05:56:18.218551Z",
     "shell.execute_reply": "2022-07-12T05:56:18.217413Z"
    },
    "papermill": {
     "duration": 0.02293,
     "end_time": "2022-07-12T05:56:18.220839",
     "exception": false,
     "start_time": "2022-07-12T05:56:18.197909",
     "status": "completed"
    },
    "tags": []
   },
   "outputs": [
    {
     "data": {
      "text/plain": [
       "{'Bread': 3325,\n",
       " 'Scandinavian': 277,\n",
       " 'Hot chocolate': 590,\n",
       " 'Jam': 149,\n",
       " 'Cookies': 540,\n",
       " 'Muffin': 370,\n",
       " 'Coffee': 5471,\n",
       " 'Pastry': 856,\n",
       " 'Medialuna': 616,\n",
       " 'Tea': 1435,\n",
       " 'Tartine': 47,\n",
       " 'Basket': 6,\n",
       " 'Mineral water': 136,\n",
       " 'Farm House': 374,\n",
       " 'Fudge': 159,\n",
       " 'Juice': 369,\n",
       " \"Ella's Kitchen Pouches\": 17,\n",
       " 'Victorian Sponge': 7,\n",
       " 'Frittata': 81,\n",
       " 'Hearty & Seasonal': 107,\n",
       " 'Soup': 342,\n",
       " 'Pick and Mix Bowls': 12,\n",
       " 'Smoothies': 77,\n",
       " 'Cake': 1025,\n",
       " 'Mighty Protein': 11,\n",
       " 'Chicken sand': 1,\n",
       " 'Coke': 185,\n",
       " 'My-5 Fruit Shoot': 18,\n",
       " 'Focaccia': 54,\n",
       " 'Sandwich': 771,\n",
       " 'Alfajores': 369,\n",
       " 'Eggs': 28,\n",
       " 'Brownie': 379,\n",
       " 'Dulce de Leche': 13,\n",
       " 'Honey': 6,\n",
       " 'The BART': 1,\n",
       " 'Granola': 28,\n",
       " 'Fairy Doors': 2,\n",
       " 'Empanadas': 7,\n",
       " 'Keeping It Local': 63,\n",
       " 'Art Tray': 38,\n",
       " 'Bowl Nic Pitt': 2,\n",
       " 'Bread Pudding': 4,\n",
       " 'Adjustment': 1,\n",
       " 'Truffles': 193,\n",
       " 'Chimichurri Oil': 2,\n",
       " 'Bacon': 1,\n",
       " 'Spread': 2,\n",
       " 'Kids biscuit': 12,\n",
       " 'Siblings': 2,\n",
       " 'Caramel bites': 3,\n",
       " 'Jammie Dodgers': 125,\n",
       " 'Tiffin': 146,\n",
       " 'Olum & polenta': 1,\n",
       " 'Polenta': 1,\n",
       " 'The Nomad': 58,\n",
       " 'Hack the stack': 2,\n",
       " 'Bakewell': 48,\n",
       " 'Lemon and coconut': 6,\n",
       " 'Toast': 318,\n",
       " 'Scone': 327,\n",
       " 'Crepes': 6,\n",
       " 'Vegan mincepie': 54,\n",
       " 'Bare Popcorn': 5,\n",
       " 'Muesli': 8,\n",
       " 'Crisps': 14,\n",
       " 'Pintxos': 6,\n",
       " 'Gingerbread syrup': 9,\n",
       " 'Panatone': 5,\n",
       " 'Brioche and salami': 3,\n",
       " 'Afternoon with the baker': 44,\n",
       " 'Salad': 99,\n",
       " 'Chicken Stew': 123,\n",
       " 'Spanish Brunch': 172,\n",
       " 'Raspberry shortbread sandwich': 3,\n",
       " 'Extra Salami or Feta': 38,\n",
       " 'Duck egg': 12,\n",
       " 'Baguette': 152,\n",
       " \"Valentine's card\": 13,\n",
       " 'Tshirt': 21,\n",
       " 'Vegan Feast': 16,\n",
       " 'Postcard': 10,\n",
       " 'Nomad bag': 8,\n",
       " 'Chocolates': 10,\n",
       " 'Coffee granules ': 7,\n",
       " 'Drinking chocolate spoons ': 8,\n",
       " 'Christmas common': 11,\n",
       " 'Argentina Night': 7,\n",
       " 'Half slice Monster ': 6,\n",
       " 'Gift voucher': 1,\n",
       " 'Cherry me Dried fruit': 3,\n",
       " 'Mortimer': 5,\n",
       " 'Raw bars': 1,\n",
       " 'Tacos/Fajita': 11}"
      ]
     },
     "execution_count": 10,
     "metadata": {},
     "output_type": "execute_result"
    }
   ],
   "source": [
    "basket_items"
   ]
  },
  {
   "cell_type": "code",
   "execution_count": 11,
   "id": "eb901239",
   "metadata": {
    "execution": {
     "iopub.execute_input": "2022-07-12T05:56:18.243938Z",
     "iopub.status.busy": "2022-07-12T05:56:18.243188Z",
     "iopub.status.idle": "2022-07-12T05:56:18.248136Z",
     "shell.execute_reply": "2022-07-12T05:56:18.247215Z"
    },
    "papermill": {
     "duration": 0.019066,
     "end_time": "2022-07-12T05:56:18.250254",
     "exception": false,
     "start_time": "2022-07-12T05:56:18.231188",
     "status": "completed"
    },
    "tags": []
   },
   "outputs": [],
   "source": [
    "item_names = []\n",
    "item_frequencies = []\n",
    "\n",
    "for key, val in basket_items.items():\n",
    "    item_names.append(key)\n",
    "    item_frequencies.append(val)"
   ]
  },
  {
   "cell_type": "code",
   "execution_count": 12,
   "id": "f948f554",
   "metadata": {
    "execution": {
     "iopub.execute_input": "2022-07-12T05:56:18.272867Z",
     "iopub.status.busy": "2022-07-12T05:56:18.272369Z",
     "iopub.status.idle": "2022-07-12T05:56:18.287495Z",
     "shell.execute_reply": "2022-07-12T05:56:18.286552Z"
    },
    "papermill": {
     "duration": 0.028826,
     "end_time": "2022-07-12T05:56:18.289477",
     "exception": false,
     "start_time": "2022-07-12T05:56:18.260651",
     "status": "completed"
    },
    "tags": []
   },
   "outputs": [
    {
     "data": {
      "text/html": [
       "<div>\n",
       "<style scoped>\n",
       "    .dataframe tbody tr th:only-of-type {\n",
       "        vertical-align: middle;\n",
       "    }\n",
       "\n",
       "    .dataframe tbody tr th {\n",
       "        vertical-align: top;\n",
       "    }\n",
       "\n",
       "    .dataframe thead th {\n",
       "        text-align: right;\n",
       "    }\n",
       "</style>\n",
       "<table border=\"1\" class=\"dataframe\">\n",
       "  <thead>\n",
       "    <tr style=\"text-align: right;\">\n",
       "      <th></th>\n",
       "      <th>Names</th>\n",
       "      <th>Frequencies</th>\n",
       "    </tr>\n",
       "  </thead>\n",
       "  <tbody>\n",
       "    <tr>\n",
       "      <th>0</th>\n",
       "      <td>Bread</td>\n",
       "      <td>3325</td>\n",
       "    </tr>\n",
       "    <tr>\n",
       "      <th>1</th>\n",
       "      <td>Scandinavian</td>\n",
       "      <td>277</td>\n",
       "    </tr>\n",
       "    <tr>\n",
       "      <th>2</th>\n",
       "      <td>Hot chocolate</td>\n",
       "      <td>590</td>\n",
       "    </tr>\n",
       "    <tr>\n",
       "      <th>3</th>\n",
       "      <td>Jam</td>\n",
       "      <td>149</td>\n",
       "    </tr>\n",
       "    <tr>\n",
       "      <th>4</th>\n",
       "      <td>Cookies</td>\n",
       "      <td>540</td>\n",
       "    </tr>\n",
       "    <tr>\n",
       "      <th>...</th>\n",
       "      <td>...</td>\n",
       "      <td>...</td>\n",
       "    </tr>\n",
       "    <tr>\n",
       "      <th>89</th>\n",
       "      <td>Gift voucher</td>\n",
       "      <td>1</td>\n",
       "    </tr>\n",
       "    <tr>\n",
       "      <th>90</th>\n",
       "      <td>Cherry me Dried fruit</td>\n",
       "      <td>3</td>\n",
       "    </tr>\n",
       "    <tr>\n",
       "      <th>91</th>\n",
       "      <td>Mortimer</td>\n",
       "      <td>5</td>\n",
       "    </tr>\n",
       "    <tr>\n",
       "      <th>92</th>\n",
       "      <td>Raw bars</td>\n",
       "      <td>1</td>\n",
       "    </tr>\n",
       "    <tr>\n",
       "      <th>93</th>\n",
       "      <td>Tacos/Fajita</td>\n",
       "      <td>11</td>\n",
       "    </tr>\n",
       "  </tbody>\n",
       "</table>\n",
       "<p>94 rows × 2 columns</p>\n",
       "</div>"
      ],
      "text/plain": [
       "                    Names  Frequencies\n",
       "0                   Bread         3325\n",
       "1            Scandinavian          277\n",
       "2           Hot chocolate          590\n",
       "3                     Jam          149\n",
       "4                 Cookies          540\n",
       "..                    ...          ...\n",
       "89           Gift voucher            1\n",
       "90  Cherry me Dried fruit            3\n",
       "91               Mortimer            5\n",
       "92               Raw bars            1\n",
       "93           Tacos/Fajita           11\n",
       "\n",
       "[94 rows x 2 columns]"
      ]
     },
     "execution_count": 12,
     "metadata": {},
     "output_type": "execute_result"
    }
   ],
   "source": [
    "items_table = pd.DataFrame({'Names': item_names,\n",
    "                            'Frequencies': item_frequencies})\n",
    "\n",
    "items_table"
   ]
  },
  {
   "cell_type": "markdown",
   "id": "7b4feea5",
   "metadata": {
    "papermill": {
     "duration": 0.010333,
     "end_time": "2022-07-12T05:56:18.310812",
     "exception": false,
     "start_time": "2022-07-12T05:56:18.300479",
     "status": "completed"
    },
    "tags": []
   },
   "source": [
    "### Plotting Bar plot for items vs frequency"
   ]
  },
  {
   "cell_type": "code",
   "execution_count": 13,
   "id": "66a01536",
   "metadata": {
    "execution": {
     "iopub.execute_input": "2022-07-12T05:56:18.334439Z",
     "iopub.status.busy": "2022-07-12T05:56:18.333450Z",
     "iopub.status.idle": "2022-07-12T05:56:18.346371Z",
     "shell.execute_reply": "2022-07-12T05:56:18.345583Z"
    },
    "papermill": {
     "duration": 0.027116,
     "end_time": "2022-07-12T05:56:18.348502",
     "exception": false,
     "start_time": "2022-07-12T05:56:18.321386",
     "status": "completed"
    },
    "tags": []
   },
   "outputs": [
    {
     "data": {
      "text/html": [
       "<div>\n",
       "<style scoped>\n",
       "    .dataframe tbody tr th:only-of-type {\n",
       "        vertical-align: middle;\n",
       "    }\n",
       "\n",
       "    .dataframe tbody tr th {\n",
       "        vertical-align: top;\n",
       "    }\n",
       "\n",
       "    .dataframe thead th {\n",
       "        text-align: right;\n",
       "    }\n",
       "</style>\n",
       "<table border=\"1\" class=\"dataframe\">\n",
       "  <thead>\n",
       "    <tr style=\"text-align: right;\">\n",
       "      <th></th>\n",
       "      <th>Names</th>\n",
       "      <th>Frequencies</th>\n",
       "    </tr>\n",
       "  </thead>\n",
       "  <tbody>\n",
       "    <tr>\n",
       "      <th>6</th>\n",
       "      <td>Coffee</td>\n",
       "      <td>5471</td>\n",
       "    </tr>\n",
       "    <tr>\n",
       "      <th>0</th>\n",
       "      <td>Bread</td>\n",
       "      <td>3325</td>\n",
       "    </tr>\n",
       "    <tr>\n",
       "      <th>9</th>\n",
       "      <td>Tea</td>\n",
       "      <td>1435</td>\n",
       "    </tr>\n",
       "    <tr>\n",
       "      <th>23</th>\n",
       "      <td>Cake</td>\n",
       "      <td>1025</td>\n",
       "    </tr>\n",
       "    <tr>\n",
       "      <th>7</th>\n",
       "      <td>Pastry</td>\n",
       "      <td>856</td>\n",
       "    </tr>\n",
       "  </tbody>\n",
       "</table>\n",
       "</div>"
      ],
      "text/plain": [
       "     Names  Frequencies\n",
       "6   Coffee         5471\n",
       "0    Bread         3325\n",
       "9      Tea         1435\n",
       "23    Cake         1025\n",
       "7   Pastry          856"
      ]
     },
     "execution_count": 13,
     "metadata": {},
     "output_type": "execute_result"
    }
   ],
   "source": [
    "items_table.sort_values('Frequencies', ascending=False).head()"
   ]
  },
  {
   "cell_type": "code",
   "execution_count": 14,
   "id": "44da605c",
   "metadata": {
    "execution": {
     "iopub.execute_input": "2022-07-12T05:56:18.371616Z",
     "iopub.status.busy": "2022-07-12T05:56:18.370752Z",
     "iopub.status.idle": "2022-07-12T05:56:19.715636Z",
     "shell.execute_reply": "2022-07-12T05:56:19.714296Z"
    },
    "papermill": {
     "duration": 1.360781,
     "end_time": "2022-07-12T05:56:19.719660",
     "exception": false,
     "start_time": "2022-07-12T05:56:18.358879",
     "status": "completed"
    },
    "tags": []
   },
   "outputs": [
    {
     "data": {
      "text/plain": [
       "<AxesSubplot:xlabel='Names'>"
      ]
     },
     "execution_count": 14,
     "metadata": {},
     "output_type": "execute_result"
    },
    {
     "data": {
      "image/png": "[encoded data removed]",
      "text/plain": [
       "<Figure size 864x576 with 1 Axes>"
      ]
     },
     "metadata": {
      "needs_background": "light"
     },
     "output_type": "display_data"
    }
   ],
   "source": [
    "items_table.plot.bar(y='Frequencies', x='Names', figsize=(12, 8))"
   ]
  },
  {
   "cell_type": "code",
   "execution_count": 15,
   "id": "df0c406d",
   "metadata": {
    "execution": {
     "iopub.execute_input": "2022-07-12T05:56:19.746380Z",
     "iopub.status.busy": "2022-07-12T05:56:19.745743Z",
     "iopub.status.idle": "2022-07-12T05:56:20.034184Z",
     "shell.execute_reply": "2022-07-12T05:56:20.033325Z"
    },
    "papermill": {
     "duration": 0.303659,
     "end_time": "2022-07-12T05:56:20.036515",
     "exception": false,
     "start_time": "2022-07-12T05:56:19.732856",
     "status": "completed"
    },
    "tags": []
   },
   "outputs": [
    {
     "data": {
      "text/plain": [
       "<AxesSubplot:xlabel='Names'>"
      ]
     },
     "execution_count": 15,
     "metadata": {},
     "output_type": "execute_result"
    },
    {
     "data": {
      "image/png": "[encoded data removed]",
      "text/plain": [
       "<Figure size 864x576 with 1 Axes>"
      ]
     },
     "metadata": {
      "needs_background": "light"
     },
     "output_type": "display_data"
    }
   ],
   "source": [
    "items_table.sort_values('Frequencies', ascending=False).head(20).\\\n",
    "    plot.bar(y='Frequencies', x='Names', figsize=(12, 8))"
   ]
  },
  {
   "cell_type": "markdown",
   "id": "65febdc8",
   "metadata": {
    "papermill": {
     "duration": 0.011692,
     "end_time": "2022-07-12T05:56:20.060301",
     "exception": false,
     "start_time": "2022-07-12T05:56:20.048609",
     "status": "completed"
    },
    "tags": []
   },
   "source": [
    "### Describe dataset"
   ]
  },
  {
   "cell_type": "code",
   "execution_count": 16,
   "id": "68822957",
   "metadata": {
    "execution": {
     "iopub.execute_input": "2022-07-12T05:56:20.086845Z",
     "iopub.status.busy": "2022-07-12T05:56:20.086038Z",
     "iopub.status.idle": "2022-07-12T05:56:20.099246Z",
     "shell.execute_reply": "2022-07-12T05:56:20.098171Z"
    },
    "papermill": {
     "duration": 0.028971,
     "end_time": "2022-07-12T05:56:20.101586",
     "exception": false,
     "start_time": "2022-07-12T05:56:20.072615",
     "status": "completed"
    },
    "tags": []
   },
   "outputs": [
    {
     "data": {
      "text/plain": [
       "count    20507.000000\n",
       "mean      4976.202370\n",
       "std       2796.203001\n",
       "min          1.000000\n",
       "25%       2552.000000\n",
       "50%       5137.000000\n",
       "75%       7357.000000\n",
       "max       9684.000000\n",
       "Name: Transaction, dtype: float64"
      ]
     },
     "execution_count": 16,
     "metadata": {},
     "output_type": "execute_result"
    }
   ],
   "source": [
    "bread_basket_data['Transaction'].describe()"
   ]
  },
  {
   "cell_type": "markdown",
   "id": "7ed6c20c",
   "metadata": {
    "papermill": {
     "duration": 0.012103,
     "end_time": "2022-07-12T05:56:20.125837",
     "exception": false,
     "start_time": "2022-07-12T05:56:20.113734",
     "status": "completed"
    },
    "tags": []
   },
   "source": [
    "### Group items with same transaction  Id\n",
    "https://stackoverflow.com/questions/53781634/aggregation-in-pandas"
   ]
  },
  {
   "cell_type": "code",
   "execution_count": 17,
   "id": "12ddd0cb",
   "metadata": {
    "execution": {
     "iopub.execute_input": "2022-07-12T05:56:20.151531Z",
     "iopub.status.busy": "2022-07-12T05:56:20.151008Z",
     "iopub.status.idle": "2022-07-12T05:56:20.478136Z",
     "shell.execute_reply": "2022-07-12T05:56:20.477080Z"
    },
    "papermill": {
     "duration": 0.342514,
     "end_time": "2022-07-12T05:56:20.480357",
     "exception": false,
     "start_time": "2022-07-12T05:56:20.137843",
     "status": "completed"
    },
    "tags": []
   },
   "outputs": [
    {
     "data": {
      "text/html": [
       "<div>\n",
       "<style scoped>\n",
       "    .dataframe tbody tr th:only-of-type {\n",
       "        vertical-align: middle;\n",
       "    }\n",
       "\n",
       "    .dataframe tbody tr th {\n",
       "        vertical-align: top;\n",
       "    }\n",
       "\n",
       "    .dataframe thead th {\n",
       "        text-align: right;\n",
       "    }\n",
       "</style>\n",
       "<table border=\"1\" class=\"dataframe\">\n",
       "  <thead>\n",
       "    <tr style=\"text-align: right;\">\n",
       "      <th></th>\n",
       "      <th>Transaction</th>\n",
       "      <th>Item</th>\n",
       "    </tr>\n",
       "  </thead>\n",
       "  <tbody>\n",
       "    <tr>\n",
       "      <th>0</th>\n",
       "      <td>1</td>\n",
       "      <td>Bread</td>\n",
       "    </tr>\n",
       "    <tr>\n",
       "      <th>1</th>\n",
       "      <td>2</td>\n",
       "      <td>Scandinavian,Scandinavian</td>\n",
       "    </tr>\n",
       "    <tr>\n",
       "      <th>2</th>\n",
       "      <td>3</td>\n",
       "      <td>Hot chocolate,Jam,Cookies</td>\n",
       "    </tr>\n",
       "    <tr>\n",
       "      <th>3</th>\n",
       "      <td>4</td>\n",
       "      <td>Muffin</td>\n",
       "    </tr>\n",
       "    <tr>\n",
       "      <th>4</th>\n",
       "      <td>5</td>\n",
       "      <td>Coffee,Pastry,Bread</td>\n",
       "    </tr>\n",
       "    <tr>\n",
       "      <th>5</th>\n",
       "      <td>6</td>\n",
       "      <td>Medialuna,Pastry,Muffin</td>\n",
       "    </tr>\n",
       "    <tr>\n",
       "      <th>6</th>\n",
       "      <td>7</td>\n",
       "      <td>Medialuna,Pastry,Coffee,Tea</td>\n",
       "    </tr>\n",
       "    <tr>\n",
       "      <th>7</th>\n",
       "      <td>8</td>\n",
       "      <td>Pastry,Bread</td>\n",
       "    </tr>\n",
       "    <tr>\n",
       "      <th>8</th>\n",
       "      <td>9</td>\n",
       "      <td>Bread,Muffin</td>\n",
       "    </tr>\n",
       "    <tr>\n",
       "      <th>9</th>\n",
       "      <td>10</td>\n",
       "      <td>Scandinavian,Medialuna</td>\n",
       "    </tr>\n",
       "  </tbody>\n",
       "</table>\n",
       "</div>"
      ],
      "text/plain": [
       "   Transaction                         Item\n",
       "0            1                        Bread\n",
       "1            2    Scandinavian,Scandinavian\n",
       "2            3    Hot chocolate,Jam,Cookies\n",
       "3            4                       Muffin\n",
       "4            5          Coffee,Pastry,Bread\n",
       "5            6      Medialuna,Pastry,Muffin\n",
       "6            7  Medialuna,Pastry,Coffee,Tea\n",
       "7            8                 Pastry,Bread\n",
       "8            9                 Bread,Muffin\n",
       "9           10       Scandinavian,Medialuna"
      ]
     },
     "execution_count": 17,
     "metadata": {},
     "output_type": "execute_result"
    }
   ],
   "source": [
    "bread_basket_data = bread_basket_data.groupby('Transaction').agg(','.join).reset_index()\n",
    "\n",
    "bread_basket_data = bread_basket_data.drop(['Date', 'Time'], axis=1)\n",
    "bread_basket_data.head(10)"
   ]
  },
  {
   "cell_type": "code",
   "execution_count": 18,
   "id": "932e5756",
   "metadata": {
    "execution": {
     "iopub.execute_input": "2022-07-12T05:56:20.505829Z",
     "iopub.status.busy": "2022-07-12T05:56:20.505394Z",
     "iopub.status.idle": "2022-07-12T05:56:20.511958Z",
     "shell.execute_reply": "2022-07-12T05:56:20.510948Z"
    },
    "papermill": {
     "duration": 0.022252,
     "end_time": "2022-07-12T05:56:20.514174",
     "exception": false,
     "start_time": "2022-07-12T05:56:20.491922",
     "status": "completed"
    },
    "tags": []
   },
   "outputs": [
    {
     "data": {
      "text/plain": [
       "(9465, 2)"
      ]
     },
     "execution_count": 18,
     "metadata": {},
     "output_type": "execute_result"
    }
   ],
   "source": [
    "bread_basket_data.shape"
   ]
  },
  {
   "cell_type": "markdown",
   "id": "6f3babf3",
   "metadata": {
    "papermill": {
     "duration": 0.011879,
     "end_time": "2022-07-12T05:56:20.537966",
     "exception": false,
     "start_time": "2022-07-12T05:56:20.526087",
     "status": "completed"
    },
    "tags": []
   },
   "source": [
    "### Take items sets"
   ]
  },
  {
   "cell_type": "code",
   "execution_count": 19,
   "id": "831f924b",
   "metadata": {
    "execution": {
     "iopub.execute_input": "2022-07-12T05:56:20.564366Z",
     "iopub.status.busy": "2022-07-12T05:56:20.563960Z",
     "iopub.status.idle": "2022-07-12T05:56:20.572783Z",
     "shell.execute_reply": "2022-07-12T05:56:20.571691Z"
    },
    "papermill": {
     "duration": 0.024104,
     "end_time": "2022-07-12T05:56:20.574890",
     "exception": false,
     "start_time": "2022-07-12T05:56:20.550786",
     "status": "completed"
    },
    "tags": []
   },
   "outputs": [
    {
     "data": {
      "text/plain": [
       "0                          Bread\n",
       "1      Scandinavian,Scandinavian\n",
       "2      Hot chocolate,Jam,Cookies\n",
       "3                         Muffin\n",
       "4            Coffee,Pastry,Bread\n",
       "5        Medialuna,Pastry,Muffin\n",
       "6    Medialuna,Pastry,Coffee,Tea\n",
       "7                   Pastry,Bread\n",
       "8                   Bread,Muffin\n",
       "9         Scandinavian,Medialuna\n",
       "Name: Item, dtype: object"
      ]
     },
     "execution_count": 19,
     "metadata": {},
     "output_type": "execute_result"
    }
   ],
   "source": [
    "items_data = bread_basket_data['Item']\n",
    "\n",
    "items_data.head(10)"
   ]
  },
  {
   "cell_type": "markdown",
   "id": "b5aec725",
   "metadata": {
    "papermill": {
     "duration": 0.011632,
     "end_time": "2022-07-12T05:56:20.599004",
     "exception": false,
     "start_time": "2022-07-12T05:56:20.587372",
     "status": "completed"
    },
    "tags": []
   },
   "source": [
    "### Convert into list and split each item in a list"
   ]
  },
  {
   "cell_type": "code",
   "execution_count": 20,
   "id": "b5356b28",
   "metadata": {
    "execution": {
     "iopub.execute_input": "2022-07-12T05:56:20.624718Z",
     "iopub.status.busy": "2022-07-12T05:56:20.624301Z",
     "iopub.status.idle": "2022-07-12T05:56:20.647783Z",
     "shell.execute_reply": "2022-07-12T05:56:20.646612Z"
    },
    "papermill": {
     "duration": 0.038955,
     "end_time": "2022-07-12T05:56:20.649849",
     "exception": false,
     "start_time": "2022-07-12T05:56:20.610894",
     "status": "completed"
    },
    "tags": []
   },
   "outputs": [
    {
     "data": {
      "text/html": [
       "<div>\n",
       "<style scoped>\n",
       "    .dataframe tbody tr th:only-of-type {\n",
       "        vertical-align: middle;\n",
       "    }\n",
       "\n",
       "    .dataframe tbody tr th {\n",
       "        vertical-align: top;\n",
       "    }\n",
       "\n",
       "    .dataframe thead th {\n",
       "        text-align: right;\n",
       "    }\n",
       "</style>\n",
       "<table border=\"1\" class=\"dataframe\">\n",
       "  <thead>\n",
       "    <tr style=\"text-align: right;\">\n",
       "      <th></th>\n",
       "      <th>Items</th>\n",
       "    </tr>\n",
       "  </thead>\n",
       "  <tbody>\n",
       "    <tr>\n",
       "      <th>0</th>\n",
       "      <td>[Bread]</td>\n",
       "    </tr>\n",
       "    <tr>\n",
       "      <th>1</th>\n",
       "      <td>[Scandinavian, Scandinavian]</td>\n",
       "    </tr>\n",
       "    <tr>\n",
       "      <th>2</th>\n",
       "      <td>[Hot chocolate, Jam, Cookies]</td>\n",
       "    </tr>\n",
       "    <tr>\n",
       "      <th>3</th>\n",
       "      <td>[Muffin]</td>\n",
       "    </tr>\n",
       "    <tr>\n",
       "      <th>4</th>\n",
       "      <td>[Coffee, Pastry, Bread]</td>\n",
       "    </tr>\n",
       "    <tr>\n",
       "      <th>5</th>\n",
       "      <td>[Medialuna, Pastry, Muffin]</td>\n",
       "    </tr>\n",
       "    <tr>\n",
       "      <th>6</th>\n",
       "      <td>[Medialuna, Pastry, Coffee, Tea]</td>\n",
       "    </tr>\n",
       "    <tr>\n",
       "      <th>7</th>\n",
       "      <td>[Pastry, Bread]</td>\n",
       "    </tr>\n",
       "    <tr>\n",
       "      <th>8</th>\n",
       "      <td>[Bread, Muffin]</td>\n",
       "    </tr>\n",
       "    <tr>\n",
       "      <th>9</th>\n",
       "      <td>[Scandinavian, Medialuna]</td>\n",
       "    </tr>\n",
       "  </tbody>\n",
       "</table>\n",
       "</div>"
      ],
      "text/plain": [
       "                              Items\n",
       "0                           [Bread]\n",
       "1      [Scandinavian, Scandinavian]\n",
       "2     [Hot chocolate, Jam, Cookies]\n",
       "3                          [Muffin]\n",
       "4           [Coffee, Pastry, Bread]\n",
       "5       [Medialuna, Pastry, Muffin]\n",
       "6  [Medialuna, Pastry, Coffee, Tea]\n",
       "7                   [Pastry, Bread]\n",
       "8                   [Bread, Muffin]\n",
       "9         [Scandinavian, Medialuna]"
      ]
     },
     "execution_count": 20,
     "metadata": {},
     "output_type": "execute_result"
    }
   ],
   "source": [
    "items_list = [item.split(',') for item in items_data]\n",
    "\n",
    "items_list_df = pd.DataFrame({'Items': items_list})\n",
    "\n",
    "items_list_df.head(10)"
   ]
  },
  {
   "cell_type": "markdown",
   "id": "23609451",
   "metadata": {
    "papermill": {
     "duration": 0.011619,
     "end_time": "2022-07-12T05:56:20.673358",
     "exception": false,
     "start_time": "2022-07-12T05:56:20.661739",
     "status": "completed"
    },
    "tags": []
   },
   "source": [
    "### Association Rule Mining\n",
    "* __1. Encoding and transform__\n",
    "\n",
    "\n",
    "http://rasbt.github.io/mlxtend/user_guide/frequent_patterns/association_rules/"
   ]
  },
  {
   "cell_type": "code",
   "execution_count": 21,
   "id": "dabbbaea",
   "metadata": {
    "execution": {
     "iopub.execute_input": "2022-07-12T05:56:20.699856Z",
     "iopub.status.busy": "2022-07-12T05:56:20.698765Z",
     "iopub.status.idle": "2022-07-12T05:56:21.678903Z",
     "shell.execute_reply": "2022-07-12T05:56:21.677759Z"
    },
    "papermill": {
     "duration": 0.996232,
     "end_time": "2022-07-12T05:56:21.681586",
     "exception": false,
     "start_time": "2022-07-12T05:56:20.685354",
     "status": "completed"
    },
    "tags": []
   },
   "outputs": [],
   "source": [
    "from mlxtend.preprocessing import TransactionEncoder\n",
    "from mlxtend.frequent_patterns import apriori\n",
    "\n",
    "transencoder = TransactionEncoder()\n",
    "\n",
    "transencoder_array = transencoder.fit(items_list).transform(items_list)"
   ]
  },
  {
   "cell_type": "code",
   "execution_count": 22,
   "id": "df497b3b",
   "metadata": {
    "execution": {
     "iopub.execute_input": "2022-07-12T05:56:21.708648Z",
     "iopub.status.busy": "2022-07-12T05:56:21.707853Z",
     "iopub.status.idle": "2022-07-12T05:56:21.734601Z",
     "shell.execute_reply": "2022-07-12T05:56:21.733308Z"
    },
    "papermill": {
     "duration": 0.043359,
     "end_time": "2022-07-12T05:56:21.737181",
     "exception": false,
     "start_time": "2022-07-12T05:56:21.693822",
     "status": "completed"
    },
    "tags": []
   },
   "outputs": [
    {
     "data": {
      "text/html": [
       "<div>\n",
       "<style scoped>\n",
       "    .dataframe tbody tr th:only-of-type {\n",
       "        vertical-align: middle;\n",
       "    }\n",
       "\n",
       "    .dataframe tbody tr th {\n",
       "        vertical-align: top;\n",
       "    }\n",
       "\n",
       "    .dataframe thead th {\n",
       "        text-align: right;\n",
       "    }\n",
       "</style>\n",
       "<table border=\"1\" class=\"dataframe\">\n",
       "  <thead>\n",
       "    <tr style=\"text-align: right;\">\n",
       "      <th></th>\n",
       "      <th>Adjustment</th>\n",
       "      <th>Afternoon with the baker</th>\n",
       "      <th>Alfajores</th>\n",
       "      <th>Argentina Night</th>\n",
       "      <th>Art Tray</th>\n",
       "      <th>Bacon</th>\n",
       "      <th>Baguette</th>\n",
       "      <th>Bakewell</th>\n",
       "      <th>Bare Popcorn</th>\n",
       "      <th>Basket</th>\n",
       "      <th>...</th>\n",
       "      <th>The BART</th>\n",
       "      <th>The Nomad</th>\n",
       "      <th>Tiffin</th>\n",
       "      <th>Toast</th>\n",
       "      <th>Truffles</th>\n",
       "      <th>Tshirt</th>\n",
       "      <th>Valentine's card</th>\n",
       "      <th>Vegan Feast</th>\n",
       "      <th>Vegan mincepie</th>\n",
       "      <th>Victorian Sponge</th>\n",
       "    </tr>\n",
       "  </thead>\n",
       "  <tbody>\n",
       "    <tr>\n",
       "      <th>0</th>\n",
       "      <td>False</td>\n",
       "      <td>False</td>\n",
       "      <td>False</td>\n",
       "      <td>False</td>\n",
       "      <td>False</td>\n",
       "      <td>False</td>\n",
       "      <td>False</td>\n",
       "      <td>False</td>\n",
       "      <td>False</td>\n",
       "      <td>False</td>\n",
       "      <td>...</td>\n",
       "      <td>False</td>\n",
       "      <td>False</td>\n",
       "      <td>False</td>\n",
       "      <td>False</td>\n",
       "      <td>False</td>\n",
       "      <td>False</td>\n",
       "      <td>False</td>\n",
       "      <td>False</td>\n",
       "      <td>False</td>\n",
       "      <td>False</td>\n",
       "    </tr>\n",
       "    <tr>\n",
       "      <th>1</th>\n",
       "      <td>False</td>\n",
       "      <td>False</td>\n",
       "      <td>False</td>\n",
       "      <td>False</td>\n",
       "      <td>False</td>\n",
       "      <td>False</td>\n",
       "      <td>False</td>\n",
       "      <td>False</td>\n",
       "      <td>False</td>\n",
       "      <td>False</td>\n",
       "      <td>...</td>\n",
       "      <td>False</td>\n",
       "      <td>False</td>\n",
       "      <td>False</td>\n",
       "      <td>False</td>\n",
       "      <td>False</td>\n",
       "      <td>False</td>\n",
       "      <td>False</td>\n",
       "      <td>False</td>\n",
       "      <td>False</td>\n",
       "      <td>False</td>\n",
       "    </tr>\n",
       "    <tr>\n",
       "      <th>2</th>\n",
       "      <td>False</td>\n",
       "      <td>False</td>\n",
       "      <td>False</td>\n",
       "      <td>False</td>\n",
       "      <td>False</td>\n",
       "      <td>False</td>\n",
       "      <td>False</td>\n",
       "      <td>False</td>\n",
       "      <td>False</td>\n",
       "      <td>False</td>\n",
       "      <td>...</td>\n",
       "      <td>False</td>\n",
       "      <td>False</td>\n",
       "      <td>False</td>\n",
       "      <td>False</td>\n",
       "      <td>False</td>\n",
       "      <td>False</td>\n",
       "      <td>False</td>\n",
       "      <td>False</td>\n",
       "      <td>False</td>\n",
       "      <td>False</td>\n",
       "    </tr>\n",
       "    <tr>\n",
       "      <th>3</th>\n",
       "      <td>False</td>\n",
       "      <td>False</td>\n",
       "      <td>False</td>\n",
       "      <td>False</td>\n",
       "      <td>False</td>\n",
       "      <td>False</td>\n",
       "      <td>False</td>\n",
       "      <td>False</td>\n",
       "      <td>False</td>\n",
       "      <td>False</td>\n",
       "      <td>...</td>\n",
       "      <td>False</td>\n",
       "      <td>False</td>\n",
       "      <td>False</td>\n",
       "      <td>False</td>\n",
       "      <td>False</td>\n",
       "      <td>False</td>\n",
       "      <td>False</td>\n",
       "      <td>False</td>\n",
       "      <td>False</td>\n",
       "      <td>False</td>\n",
       "    </tr>\n",
       "    <tr>\n",
       "      <th>4</th>\n",
       "      <td>False</td>\n",
       "      <td>False</td>\n",
       "      <td>False</td>\n",
       "      <td>False</td>\n",
       "      <td>False</td>\n",
       "      <td>False</td>\n",
       "      <td>False</td>\n",
       "      <td>False</td>\n",
       "      <td>False</td>\n",
       "      <td>False</td>\n",
       "      <td>...</td>\n",
       "      <td>False</td>\n",
       "      <td>False</td>\n",
       "      <td>False</td>\n",
       "      <td>False</td>\n",
       "      <td>False</td>\n",
       "      <td>False</td>\n",
       "      <td>False</td>\n",
       "      <td>False</td>\n",
       "      <td>False</td>\n",
       "      <td>False</td>\n",
       "    </tr>\n",
       "    <tr>\n",
       "      <th>5</th>\n",
       "      <td>False</td>\n",
       "      <td>False</td>\n",
       "      <td>False</td>\n",
       "      <td>False</td>\n",
       "      <td>False</td>\n",
       "      <td>False</td>\n",
       "      <td>False</td>\n",
       "      <td>False</td>\n",
       "      <td>False</td>\n",
       "      <td>False</td>\n",
       "      <td>...</td>\n",
       "      <td>False</td>\n",
       "      <td>False</td>\n",
       "      <td>False</td>\n",
       "      <td>False</td>\n",
       "      <td>False</td>\n",
       "      <td>False</td>\n",
       "      <td>False</td>\n",
       "      <td>False</td>\n",
       "      <td>False</td>\n",
       "      <td>False</td>\n",
       "    </tr>\n",
       "    <tr>\n",
       "      <th>6</th>\n",
       "      <td>False</td>\n",
       "      <td>False</td>\n",
       "      <td>False</td>\n",
       "      <td>False</td>\n",
       "      <td>False</td>\n",
       "      <td>False</td>\n",
       "      <td>False</td>\n",
       "      <td>False</td>\n",
       "      <td>False</td>\n",
       "      <td>False</td>\n",
       "      <td>...</td>\n",
       "      <td>False</td>\n",
       "      <td>False</td>\n",
       "      <td>False</td>\n",
       "      <td>False</td>\n",
       "      <td>False</td>\n",
       "      <td>False</td>\n",
       "      <td>False</td>\n",
       "      <td>False</td>\n",
       "      <td>False</td>\n",
       "      <td>False</td>\n",
       "    </tr>\n",
       "    <tr>\n",
       "      <th>7</th>\n",
       "      <td>False</td>\n",
       "      <td>False</td>\n",
       "      <td>False</td>\n",
       "      <td>False</td>\n",
       "      <td>False</td>\n",
       "      <td>False</td>\n",
       "      <td>False</td>\n",
       "      <td>False</td>\n",
       "      <td>False</td>\n",
       "      <td>False</td>\n",
       "      <td>...</td>\n",
       "      <td>False</td>\n",
       "      <td>False</td>\n",
       "      <td>False</td>\n",
       "      <td>False</td>\n",
       "      <td>False</td>\n",
       "      <td>False</td>\n",
       "      <td>False</td>\n",
       "      <td>False</td>\n",
       "      <td>False</td>\n",
       "      <td>False</td>\n",
       "    </tr>\n",
       "    <tr>\n",
       "      <th>8</th>\n",
       "      <td>False</td>\n",
       "      <td>False</td>\n",
       "      <td>False</td>\n",
       "      <td>False</td>\n",
       "      <td>False</td>\n",
       "      <td>False</td>\n",
       "      <td>False</td>\n",
       "      <td>False</td>\n",
       "      <td>False</td>\n",
       "      <td>False</td>\n",
       "      <td>...</td>\n",
       "      <td>False</td>\n",
       "      <td>False</td>\n",
       "      <td>False</td>\n",
       "      <td>False</td>\n",
       "      <td>False</td>\n",
       "      <td>False</td>\n",
       "      <td>False</td>\n",
       "      <td>False</td>\n",
       "      <td>False</td>\n",
       "      <td>False</td>\n",
       "    </tr>\n",
       "    <tr>\n",
       "      <th>9</th>\n",
       "      <td>False</td>\n",
       "      <td>False</td>\n",
       "      <td>False</td>\n",
       "      <td>False</td>\n",
       "      <td>False</td>\n",
       "      <td>False</td>\n",
       "      <td>False</td>\n",
       "      <td>False</td>\n",
       "      <td>False</td>\n",
       "      <td>False</td>\n",
       "      <td>...</td>\n",
       "      <td>False</td>\n",
       "      <td>False</td>\n",
       "      <td>False</td>\n",
       "      <td>False</td>\n",
       "      <td>False</td>\n",
       "      <td>False</td>\n",
       "      <td>False</td>\n",
       "      <td>False</td>\n",
       "      <td>False</td>\n",
       "      <td>False</td>\n",
       "    </tr>\n",
       "  </tbody>\n",
       "</table>\n",
       "<p>10 rows × 94 columns</p>\n",
       "</div>"
      ],
      "text/plain": [
       "   Adjustment  Afternoon with the baker  Alfajores  Argentina Night  Art Tray  \\\n",
       "0       False                     False      False            False     False   \n",
       "1       False                     False      False            False     False   \n",
       "2       False                     False      False            False     False   \n",
       "3       False                     False      False            False     False   \n",
       "4       False                     False      False            False     False   \n",
       "5       False                     False      False            False     False   \n",
       "6       False                     False      False            False     False   \n",
       "7       False                     False      False            False     False   \n",
       "8       False                     False      False            False     False   \n",
       "9       False                     False      False            False     False   \n",
       "\n",
       "   Bacon  Baguette  Bakewell  Bare Popcorn  Basket  ...  The BART  The Nomad  \\\n",
       "0  False     False     False         False   False  ...     False      False   \n",
       "1  False     False     False         False   False  ...     False      False   \n",
       "2  False     False     False         False   False  ...     False      False   \n",
       "3  False     False     False         False   False  ...     False      False   \n",
       "4  False     False     False         False   False  ...     False      False   \n",
       "5  False     False     False         False   False  ...     False      False   \n",
       "6  False     False     False         False   False  ...     False      False   \n",
       "7  False     False     False         False   False  ...     False      False   \n",
       "8  False     False     False         False   False  ...     False      False   \n",
       "9  False     False     False         False   False  ...     False      False   \n",
       "\n",
       "   Tiffin  Toast  Truffles  Tshirt  Valentine's card  Vegan Feast  \\\n",
       "0   False  False     False   False             False        False   \n",
       "1   False  False     False   False             False        False   \n",
       "2   False  False     False   False             False        False   \n",
       "3   False  False     False   False             False        False   \n",
       "4   False  False     False   False             False        False   \n",
       "5   False  False     False   False             False        False   \n",
       "6   False  False     False   False             False        False   \n",
       "7   False  False     False   False             False        False   \n",
       "8   False  False     False   False             False        False   \n",
       "9   False  False     False   False             False        False   \n",
       "\n",
       "   Vegan mincepie  Victorian Sponge  \n",
       "0           False             False  \n",
       "1           False             False  \n",
       "2           False             False  \n",
       "3           False             False  \n",
       "4           False             False  \n",
       "5           False             False  \n",
       "6           False             False  \n",
       "7           False             False  \n",
       "8           False             False  \n",
       "9           False             False  \n",
       "\n",
       "[10 rows x 94 columns]"
      ]
     },
     "execution_count": 22,
     "metadata": {},
     "output_type": "execute_result"
    }
   ],
   "source": [
    "encoded_df = pd.DataFrame(transencoder_array, columns=transencoder.columns_)\n",
    "\n",
    "encoded_df.head(10)"
   ]
  },
  {
   "cell_type": "markdown",
   "id": "67003c69",
   "metadata": {
    "papermill": {
     "duration": 0.012025,
     "end_time": "2022-07-12T05:56:21.761872",
     "exception": false,
     "start_time": "2022-07-12T05:56:21.749847",
     "status": "completed"
    },
    "tags": []
   },
   "source": [
    "### Support of each item sets"
   ]
  },
  {
   "cell_type": "code",
   "execution_count": 23,
   "id": "f44b170c",
   "metadata": {
    "execution": {
     "iopub.execute_input": "2022-07-12T05:56:21.789843Z",
     "iopub.status.busy": "2022-07-12T05:56:21.788550Z",
     "iopub.status.idle": "2022-07-12T05:56:21.843571Z",
     "shell.execute_reply": "2022-07-12T05:56:21.842769Z"
    },
    "papermill": {
     "duration": 0.071469,
     "end_time": "2022-07-12T05:56:21.845732",
     "exception": false,
     "start_time": "2022-07-12T05:56:21.774263",
     "status": "completed"
    },
    "tags": []
   },
   "outputs": [
    {
     "data": {
      "text/plain": [
       "(61, 2)"
      ]
     },
     "execution_count": 23,
     "metadata": {},
     "output_type": "execute_result"
    }
   ],
   "source": [
    "item_support_df = apriori(encoded_df, min_support=0.01, use_colnames=True)\n",
    "\n",
    "item_support_df.shape"
   ]
  },
  {
   "cell_type": "code",
   "execution_count": 24,
   "id": "3286096e",
   "metadata": {
    "execution": {
     "iopub.execute_input": "2022-07-12T05:56:21.873028Z",
     "iopub.status.busy": "2022-07-12T05:56:21.872037Z",
     "iopub.status.idle": "2022-07-12T05:56:21.887997Z",
     "shell.execute_reply": "2022-07-12T05:56:21.887046Z"
    },
    "papermill": {
     "duration": 0.032035,
     "end_time": "2022-07-12T05:56:21.890361",
     "exception": false,
     "start_time": "2022-07-12T05:56:21.858326",
     "status": "completed"
    },
    "tags": []
   },
   "outputs": [
    {
     "data": {
      "text/html": [
       "<div>\n",
       "<style scoped>\n",
       "    .dataframe tbody tr th:only-of-type {\n",
       "        vertical-align: middle;\n",
       "    }\n",
       "\n",
       "    .dataframe tbody tr th {\n",
       "        vertical-align: top;\n",
       "    }\n",
       "\n",
       "    .dataframe thead th {\n",
       "        text-align: right;\n",
       "    }\n",
       "</style>\n",
       "<table border=\"1\" class=\"dataframe\">\n",
       "  <thead>\n",
       "    <tr style=\"text-align: right;\">\n",
       "      <th></th>\n",
       "      <th>support</th>\n",
       "      <th>itemsets</th>\n",
       "    </tr>\n",
       "  </thead>\n",
       "  <tbody>\n",
       "    <tr>\n",
       "      <th>47</th>\n",
       "      <td>0.020602</td>\n",
       "      <td>(Juice, Coffee)</td>\n",
       "    </tr>\n",
       "    <tr>\n",
       "      <th>15</th>\n",
       "      <td>0.038563</td>\n",
       "      <td>(Juice)</td>\n",
       "    </tr>\n",
       "    <tr>\n",
       "      <th>45</th>\n",
       "      <td>0.028209</td>\n",
       "      <td>(Coffee, Cookies)</td>\n",
       "    </tr>\n",
       "    <tr>\n",
       "      <th>54</th>\n",
       "      <td>0.010882</td>\n",
       "      <td>(Coffee, Spanish Brunch)</td>\n",
       "    </tr>\n",
       "    <tr>\n",
       "      <th>6</th>\n",
       "      <td>0.478394</td>\n",
       "      <td>(Coffee)</td>\n",
       "    </tr>\n",
       "    <tr>\n",
       "      <th>38</th>\n",
       "      <td>0.029160</td>\n",
       "      <td>(Bread, Pastry)</td>\n",
       "    </tr>\n",
       "    <tr>\n",
       "      <th>25</th>\n",
       "      <td>0.018172</td>\n",
       "      <td>(Spanish Brunch)</td>\n",
       "    </tr>\n",
       "    <tr>\n",
       "      <th>34</th>\n",
       "      <td>0.090016</td>\n",
       "      <td>(Coffee, Bread)</td>\n",
       "    </tr>\n",
       "    <tr>\n",
       "      <th>27</th>\n",
       "      <td>0.015425</td>\n",
       "      <td>(Tiffin)</td>\n",
       "    </tr>\n",
       "    <tr>\n",
       "      <th>48</th>\n",
       "      <td>0.035182</td>\n",
       "      <td>(Coffee, Medialuna)</td>\n",
       "    </tr>\n",
       "  </tbody>\n",
       "</table>\n",
       "</div>"
      ],
      "text/plain": [
       "     support                  itemsets\n",
       "47  0.020602           (Juice, Coffee)\n",
       "15  0.038563                   (Juice)\n",
       "45  0.028209         (Coffee, Cookies)\n",
       "54  0.010882  (Coffee, Spanish Brunch)\n",
       "6   0.478394                  (Coffee)\n",
       "38  0.029160           (Bread, Pastry)\n",
       "25  0.018172          (Spanish Brunch)\n",
       "34  0.090016           (Coffee, Bread)\n",
       "27  0.015425                  (Tiffin)\n",
       "48  0.035182       (Coffee, Medialuna)"
      ]
     },
     "execution_count": 24,
     "metadata": {},
     "output_type": "execute_result"
    }
   ],
   "source": [
    "item_support_df.sample(10)"
   ]
  },
  {
   "cell_type": "markdown",
   "id": "fcdc2a6b",
   "metadata": {
    "papermill": {
     "duration": 0.012817,
     "end_time": "2022-07-12T05:56:21.916391",
     "exception": false,
     "start_time": "2022-07-12T05:56:21.903574",
     "status": "completed"
    },
    "tags": []
   },
   "source": [
    "### Association rules\n",
    "\n",
    "https://www.pydoc.io/pypi/mlxtend-0.7.0/autoapi/frequent_patterns/association_rules/index.html"
   ]
  },
  {
   "cell_type": "code",
   "execution_count": 25,
   "id": "f4f1bc5e",
   "metadata": {
    "execution": {
     "iopub.execute_input": "2022-07-12T05:56:21.944991Z",
     "iopub.status.busy": "2022-07-12T05:56:21.944264Z",
     "iopub.status.idle": "2022-07-12T05:56:21.956329Z",
     "shell.execute_reply": "2022-07-12T05:56:21.954929Z"
    },
    "papermill": {
     "duration": 0.029296,
     "end_time": "2022-07-12T05:56:21.958765",
     "exception": false,
     "start_time": "2022-07-12T05:56:21.929469",
     "status": "completed"
    },
    "tags": []
   },
   "outputs": [
    {
     "data": {
      "text/plain": [
       "(44, 9)"
      ]
     },
     "execution_count": 25,
     "metadata": {},
     "output_type": "execute_result"
    }
   ],
   "source": [
    "from mlxtend.frequent_patterns import association_rules\n",
    "\n",
    "rules = association_rules(item_support_df, \n",
    "                          metric='confidence', min_threshold=0.1)\n",
    "\n",
    "rules.shape"
   ]
  },
  {
   "cell_type": "code",
   "execution_count": 26,
   "id": "16e33b1f",
   "metadata": {
    "execution": {
     "iopub.execute_input": "2022-07-12T05:56:21.987733Z",
     "iopub.status.busy": "2022-07-12T05:56:21.986947Z",
     "iopub.status.idle": "2022-07-12T05:56:22.010973Z",
     "shell.execute_reply": "2022-07-12T05:56:22.009780Z"
    },
    "papermill": {
     "duration": 0.041272,
     "end_time": "2022-07-12T05:56:22.013270",
     "exception": false,
     "start_time": "2022-07-12T05:56:21.971998",
     "status": "completed"
    },
    "tags": []
   },
   "outputs": [
    {
     "data": {
      "text/html": [
       "<div>\n",
       "<style scoped>\n",
       "    .dataframe tbody tr th:only-of-type {\n",
       "        vertical-align: middle;\n",
       "    }\n",
       "\n",
       "    .dataframe tbody tr th {\n",
       "        vertical-align: top;\n",
       "    }\n",
       "\n",
       "    .dataframe thead th {\n",
       "        text-align: right;\n",
       "    }\n",
       "</style>\n",
       "<table border=\"1\" class=\"dataframe\">\n",
       "  <thead>\n",
       "    <tr style=\"text-align: right;\">\n",
       "      <th></th>\n",
       "      <th>antecedents</th>\n",
       "      <th>consequents</th>\n",
       "      <th>antecedent support</th>\n",
       "      <th>consequent support</th>\n",
       "      <th>support</th>\n",
       "      <th>confidence</th>\n",
       "      <th>lift</th>\n",
       "      <th>leverage</th>\n",
       "      <th>conviction</th>\n",
       "    </tr>\n",
       "  </thead>\n",
       "  <tbody>\n",
       "    <tr>\n",
       "      <th>9</th>\n",
       "      <td>(Pastry)</td>\n",
       "      <td>(Bread)</td>\n",
       "      <td>0.086107</td>\n",
       "      <td>0.327205</td>\n",
       "      <td>0.029160</td>\n",
       "      <td>0.338650</td>\n",
       "      <td>1.034977</td>\n",
       "      <td>0.000985</td>\n",
       "      <td>1.017305</td>\n",
       "    </tr>\n",
       "    <tr>\n",
       "      <th>7</th>\n",
       "      <td>(Hot chocolate)</td>\n",
       "      <td>(Bread)</td>\n",
       "      <td>0.058320</td>\n",
       "      <td>0.327205</td>\n",
       "      <td>0.013418</td>\n",
       "      <td>0.230072</td>\n",
       "      <td>0.703144</td>\n",
       "      <td>-0.005665</td>\n",
       "      <td>0.873841</td>\n",
       "    </tr>\n",
       "    <tr>\n",
       "      <th>28</th>\n",
       "      <td>(Spanish Brunch)</td>\n",
       "      <td>(Coffee)</td>\n",
       "      <td>0.018172</td>\n",
       "      <td>0.478394</td>\n",
       "      <td>0.010882</td>\n",
       "      <td>0.598837</td>\n",
       "      <td>1.251766</td>\n",
       "      <td>0.002189</td>\n",
       "      <td>1.300235</td>\n",
       "    </tr>\n",
       "    <tr>\n",
       "      <th>36</th>\n",
       "      <td>(Bread, Cake)</td>\n",
       "      <td>(Coffee)</td>\n",
       "      <td>0.023349</td>\n",
       "      <td>0.478394</td>\n",
       "      <td>0.010037</td>\n",
       "      <td>0.429864</td>\n",
       "      <td>0.898557</td>\n",
       "      <td>-0.001133</td>\n",
       "      <td>0.914880</td>\n",
       "    </tr>\n",
       "    <tr>\n",
       "      <th>42</th>\n",
       "      <td>(Coffee, Tea)</td>\n",
       "      <td>(Cake)</td>\n",
       "      <td>0.049868</td>\n",
       "      <td>0.103856</td>\n",
       "      <td>0.010037</td>\n",
       "      <td>0.201271</td>\n",
       "      <td>1.937977</td>\n",
       "      <td>0.004858</td>\n",
       "      <td>1.121962</td>\n",
       "    </tr>\n",
       "    <tr>\n",
       "      <th>26</th>\n",
       "      <td>(Scone)</td>\n",
       "      <td>(Coffee)</td>\n",
       "      <td>0.034548</td>\n",
       "      <td>0.478394</td>\n",
       "      <td>0.018067</td>\n",
       "      <td>0.522936</td>\n",
       "      <td>1.093107</td>\n",
       "      <td>0.001539</td>\n",
       "      <td>1.093366</td>\n",
       "    </tr>\n",
       "    <tr>\n",
       "      <th>32</th>\n",
       "      <td>(Sandwich)</td>\n",
       "      <td>(Tea)</td>\n",
       "      <td>0.071844</td>\n",
       "      <td>0.142631</td>\n",
       "      <td>0.014369</td>\n",
       "      <td>0.200000</td>\n",
       "      <td>1.402222</td>\n",
       "      <td>0.004122</td>\n",
       "      <td>1.071712</td>\n",
       "    </tr>\n",
       "    <tr>\n",
       "      <th>21</th>\n",
       "      <td>(Juice)</td>\n",
       "      <td>(Coffee)</td>\n",
       "      <td>0.038563</td>\n",
       "      <td>0.478394</td>\n",
       "      <td>0.020602</td>\n",
       "      <td>0.534247</td>\n",
       "      <td>1.116750</td>\n",
       "      <td>0.002154</td>\n",
       "      <td>1.119919</td>\n",
       "    </tr>\n",
       "    <tr>\n",
       "      <th>0</th>\n",
       "      <td>(Alfajores)</td>\n",
       "      <td>(Bread)</td>\n",
       "      <td>0.036344</td>\n",
       "      <td>0.327205</td>\n",
       "      <td>0.010354</td>\n",
       "      <td>0.284884</td>\n",
       "      <td>0.870657</td>\n",
       "      <td>-0.001538</td>\n",
       "      <td>0.940818</td>\n",
       "    </tr>\n",
       "    <tr>\n",
       "      <th>15</th>\n",
       "      <td>(Cake)</td>\n",
       "      <td>(Hot chocolate)</td>\n",
       "      <td>0.103856</td>\n",
       "      <td>0.058320</td>\n",
       "      <td>0.011410</td>\n",
       "      <td>0.109868</td>\n",
       "      <td>1.883874</td>\n",
       "      <td>0.005354</td>\n",
       "      <td>1.057910</td>\n",
       "    </tr>\n",
       "  </tbody>\n",
       "</table>\n",
       "</div>"
      ],
      "text/plain": [
       "         antecedents      consequents  antecedent support  consequent support  \\\n",
       "9           (Pastry)          (Bread)            0.086107            0.327205   \n",
       "7    (Hot chocolate)          (Bread)            0.058320            0.327205   \n",
       "28  (Spanish Brunch)         (Coffee)            0.018172            0.478394   \n",
       "36     (Bread, Cake)         (Coffee)            0.023349            0.478394   \n",
       "42     (Coffee, Tea)           (Cake)            0.049868            0.103856   \n",
       "26           (Scone)         (Coffee)            0.034548            0.478394   \n",
       "32        (Sandwich)            (Tea)            0.071844            0.142631   \n",
       "21           (Juice)         (Coffee)            0.038563            0.478394   \n",
       "0        (Alfajores)          (Bread)            0.036344            0.327205   \n",
       "15            (Cake)  (Hot chocolate)            0.103856            0.058320   \n",
       "\n",
       "     support  confidence      lift  leverage  conviction  \n",
       "9   0.029160    0.338650  1.034977  0.000985    1.017305  \n",
       "7   0.013418    0.230072  0.703144 -0.005665    0.873841  \n",
       "28  0.010882    0.598837  1.251766  0.002189    1.300235  \n",
       "36  0.010037    0.429864  0.898557 -0.001133    0.914880  \n",
       "42  0.010037    0.201271  1.937977  0.004858    1.121962  \n",
       "26  0.018067    0.522936  1.093107  0.001539    1.093366  \n",
       "32  0.014369    0.200000  1.402222  0.004122    1.071712  \n",
       "21  0.020602    0.534247  1.116750  0.002154    1.119919  \n",
       "0   0.010354    0.284884  0.870657 -0.001538    0.940818  \n",
       "15  0.011410    0.109868  1.883874  0.005354    1.057910  "
      ]
     },
     "execution_count": 26,
     "metadata": {},
     "output_type": "execute_result"
    }
   ],
   "source": [
    "rules.sample(10)"
   ]
  },
  {
   "cell_type": "code",
   "execution_count": 27,
   "id": "5b4361fe",
   "metadata": {
    "execution": {
     "iopub.execute_input": "2022-07-12T05:56:22.042308Z",
     "iopub.status.busy": "2022-07-12T05:56:22.041623Z",
     "iopub.status.idle": "2022-07-12T05:56:22.064047Z",
     "shell.execute_reply": "2022-07-12T05:56:22.062822Z"
    },
    "papermill": {
     "duration": 0.039594,
     "end_time": "2022-07-12T05:56:22.066248",
     "exception": false,
     "start_time": "2022-07-12T05:56:22.026654",
     "status": "completed"
    },
    "tags": []
   },
   "outputs": [
    {
     "data": {
      "text/html": [
       "<div>\n",
       "<style scoped>\n",
       "    .dataframe tbody tr th:only-of-type {\n",
       "        vertical-align: middle;\n",
       "    }\n",
       "\n",
       "    .dataframe tbody tr th {\n",
       "        vertical-align: top;\n",
       "    }\n",
       "\n",
       "    .dataframe thead th {\n",
       "        text-align: right;\n",
       "    }\n",
       "</style>\n",
       "<table border=\"1\" class=\"dataframe\">\n",
       "  <thead>\n",
       "    <tr style=\"text-align: right;\">\n",
       "      <th></th>\n",
       "      <th>antecedents</th>\n",
       "      <th>consequents</th>\n",
       "      <th>antecedent support</th>\n",
       "      <th>consequent support</th>\n",
       "      <th>support</th>\n",
       "      <th>confidence</th>\n",
       "      <th>lift</th>\n",
       "      <th>leverage</th>\n",
       "      <th>conviction</th>\n",
       "    </tr>\n",
       "  </thead>\n",
       "  <tbody>\n",
       "    <tr>\n",
       "      <th>31</th>\n",
       "      <td>(Toast)</td>\n",
       "      <td>(Coffee)</td>\n",
       "      <td>0.033597</td>\n",
       "      <td>0.478394</td>\n",
       "      <td>0.023666</td>\n",
       "      <td>0.704403</td>\n",
       "      <td>1.472431</td>\n",
       "      <td>0.007593</td>\n",
       "      <td>1.764582</td>\n",
       "    </tr>\n",
       "    <tr>\n",
       "      <th>28</th>\n",
       "      <td>(Spanish Brunch)</td>\n",
       "      <td>(Coffee)</td>\n",
       "      <td>0.018172</td>\n",
       "      <td>0.478394</td>\n",
       "      <td>0.010882</td>\n",
       "      <td>0.598837</td>\n",
       "      <td>1.251766</td>\n",
       "      <td>0.002189</td>\n",
       "      <td>1.300235</td>\n",
       "    </tr>\n",
       "    <tr>\n",
       "      <th>22</th>\n",
       "      <td>(Medialuna)</td>\n",
       "      <td>(Coffee)</td>\n",
       "      <td>0.061807</td>\n",
       "      <td>0.478394</td>\n",
       "      <td>0.035182</td>\n",
       "      <td>0.569231</td>\n",
       "      <td>1.189878</td>\n",
       "      <td>0.005614</td>\n",
       "      <td>1.210871</td>\n",
       "    </tr>\n",
       "    <tr>\n",
       "      <th>24</th>\n",
       "      <td>(Pastry)</td>\n",
       "      <td>(Coffee)</td>\n",
       "      <td>0.086107</td>\n",
       "      <td>0.478394</td>\n",
       "      <td>0.047544</td>\n",
       "      <td>0.552147</td>\n",
       "      <td>1.154168</td>\n",
       "      <td>0.006351</td>\n",
       "      <td>1.164682</td>\n",
       "    </tr>\n",
       "    <tr>\n",
       "      <th>1</th>\n",
       "      <td>(Alfajores)</td>\n",
       "      <td>(Coffee)</td>\n",
       "      <td>0.036344</td>\n",
       "      <td>0.478394</td>\n",
       "      <td>0.019651</td>\n",
       "      <td>0.540698</td>\n",
       "      <td>1.130235</td>\n",
       "      <td>0.002264</td>\n",
       "      <td>1.135648</td>\n",
       "    </tr>\n",
       "    <tr>\n",
       "      <th>21</th>\n",
       "      <td>(Juice)</td>\n",
       "      <td>(Coffee)</td>\n",
       "      <td>0.038563</td>\n",
       "      <td>0.478394</td>\n",
       "      <td>0.020602</td>\n",
       "      <td>0.534247</td>\n",
       "      <td>1.116750</td>\n",
       "      <td>0.002154</td>\n",
       "      <td>1.119919</td>\n",
       "    </tr>\n",
       "    <tr>\n",
       "      <th>25</th>\n",
       "      <td>(Sandwich)</td>\n",
       "      <td>(Coffee)</td>\n",
       "      <td>0.071844</td>\n",
       "      <td>0.478394</td>\n",
       "      <td>0.038246</td>\n",
       "      <td>0.532353</td>\n",
       "      <td>1.112792</td>\n",
       "      <td>0.003877</td>\n",
       "      <td>1.115384</td>\n",
       "    </tr>\n",
       "    <tr>\n",
       "      <th>14</th>\n",
       "      <td>(Cake)</td>\n",
       "      <td>(Coffee)</td>\n",
       "      <td>0.103856</td>\n",
       "      <td>0.478394</td>\n",
       "      <td>0.054728</td>\n",
       "      <td>0.526958</td>\n",
       "      <td>1.101515</td>\n",
       "      <td>0.005044</td>\n",
       "      <td>1.102664</td>\n",
       "    </tr>\n",
       "    <tr>\n",
       "      <th>26</th>\n",
       "      <td>(Scone)</td>\n",
       "      <td>(Coffee)</td>\n",
       "      <td>0.034548</td>\n",
       "      <td>0.478394</td>\n",
       "      <td>0.018067</td>\n",
       "      <td>0.522936</td>\n",
       "      <td>1.093107</td>\n",
       "      <td>0.001539</td>\n",
       "      <td>1.093366</td>\n",
       "    </tr>\n",
       "    <tr>\n",
       "      <th>19</th>\n",
       "      <td>(Cookies)</td>\n",
       "      <td>(Coffee)</td>\n",
       "      <td>0.054411</td>\n",
       "      <td>0.478394</td>\n",
       "      <td>0.028209</td>\n",
       "      <td>0.518447</td>\n",
       "      <td>1.083723</td>\n",
       "      <td>0.002179</td>\n",
       "      <td>1.083174</td>\n",
       "    </tr>\n",
       "  </tbody>\n",
       "</table>\n",
       "</div>"
      ],
      "text/plain": [
       "         antecedents consequents  antecedent support  consequent support  \\\n",
       "31           (Toast)    (Coffee)            0.033597            0.478394   \n",
       "28  (Spanish Brunch)    (Coffee)            0.018172            0.478394   \n",
       "22       (Medialuna)    (Coffee)            0.061807            0.478394   \n",
       "24          (Pastry)    (Coffee)            0.086107            0.478394   \n",
       "1        (Alfajores)    (Coffee)            0.036344            0.478394   \n",
       "21           (Juice)    (Coffee)            0.038563            0.478394   \n",
       "25        (Sandwich)    (Coffee)            0.071844            0.478394   \n",
       "14            (Cake)    (Coffee)            0.103856            0.478394   \n",
       "26           (Scone)    (Coffee)            0.034548            0.478394   \n",
       "19         (Cookies)    (Coffee)            0.054411            0.478394   \n",
       "\n",
       "     support  confidence      lift  leverage  conviction  \n",
       "31  0.023666    0.704403  1.472431  0.007593    1.764582  \n",
       "28  0.010882    0.598837  1.251766  0.002189    1.300235  \n",
       "22  0.035182    0.569231  1.189878  0.005614    1.210871  \n",
       "24  0.047544    0.552147  1.154168  0.006351    1.164682  \n",
       "1   0.019651    0.540698  1.130235  0.002264    1.135648  \n",
       "21  0.020602    0.534247  1.116750  0.002154    1.119919  \n",
       "25  0.038246    0.532353  1.112792  0.003877    1.115384  \n",
       "14  0.054728    0.526958  1.101515  0.005044    1.102664  \n",
       "26  0.018067    0.522936  1.093107  0.001539    1.093366  \n",
       "19  0.028209    0.518447  1.083723  0.002179    1.083174  "
      ]
     },
     "execution_count": 27,
     "metadata": {},
     "output_type": "execute_result"
    }
   ],
   "source": [
    "rules.sort_values('confidence', ascending=False).head(10)"
   ]
  },
  {
   "cell_type": "code",
   "execution_count": 28,
   "id": "2d350989",
   "metadata": {
    "execution": {
     "iopub.execute_input": "2022-07-12T05:56:22.096165Z",
     "iopub.status.busy": "2022-07-12T05:56:22.095499Z",
     "iopub.status.idle": "2022-07-12T05:56:22.115097Z",
     "shell.execute_reply": "2022-07-12T05:56:22.113886Z"
    },
    "papermill": {
     "duration": 0.03748,
     "end_time": "2022-07-12T05:56:22.117278",
     "exception": false,
     "start_time": "2022-07-12T05:56:22.079798",
     "status": "completed"
    },
    "tags": []
   },
   "outputs": [
    {
     "data": {
      "text/html": [
       "<div>\n",
       "<style scoped>\n",
       "    .dataframe tbody tr th:only-of-type {\n",
       "        vertical-align: middle;\n",
       "    }\n",
       "\n",
       "    .dataframe tbody tr th {\n",
       "        vertical-align: top;\n",
       "    }\n",
       "\n",
       "    .dataframe thead th {\n",
       "        text-align: right;\n",
       "    }\n",
       "</style>\n",
       "<table border=\"1\" class=\"dataframe\">\n",
       "  <thead>\n",
       "    <tr style=\"text-align: right;\">\n",
       "      <th></th>\n",
       "      <th>antecedents</th>\n",
       "      <th>consequents</th>\n",
       "      <th>antecedent support</th>\n",
       "      <th>consequent support</th>\n",
       "      <th>support</th>\n",
       "      <th>confidence</th>\n",
       "      <th>lift</th>\n",
       "      <th>leverage</th>\n",
       "      <th>conviction</th>\n",
       "      <th>antecedent_len</th>\n",
       "    </tr>\n",
       "  </thead>\n",
       "  <tbody>\n",
       "    <tr>\n",
       "      <th>12</th>\n",
       "      <td>(Brownie)</td>\n",
       "      <td>(Coffee)</td>\n",
       "      <td>0.040042</td>\n",
       "      <td>0.478394</td>\n",
       "      <td>0.019651</td>\n",
       "      <td>0.490765</td>\n",
       "      <td>1.025860</td>\n",
       "      <td>0.000495</td>\n",
       "      <td>1.024293</td>\n",
       "      <td>1</td>\n",
       "    </tr>\n",
       "    <tr>\n",
       "      <th>9</th>\n",
       "      <td>(Pastry)</td>\n",
       "      <td>(Bread)</td>\n",
       "      <td>0.086107</td>\n",
       "      <td>0.327205</td>\n",
       "      <td>0.029160</td>\n",
       "      <td>0.338650</td>\n",
       "      <td>1.034977</td>\n",
       "      <td>0.000985</td>\n",
       "      <td>1.017305</td>\n",
       "      <td>1</td>\n",
       "    </tr>\n",
       "    <tr>\n",
       "      <th>23</th>\n",
       "      <td>(Muffin)</td>\n",
       "      <td>(Coffee)</td>\n",
       "      <td>0.038457</td>\n",
       "      <td>0.478394</td>\n",
       "      <td>0.018806</td>\n",
       "      <td>0.489011</td>\n",
       "      <td>1.022193</td>\n",
       "      <td>0.000408</td>\n",
       "      <td>1.020777</td>\n",
       "      <td>1</td>\n",
       "    </tr>\n",
       "    <tr>\n",
       "      <th>5</th>\n",
       "      <td>(Bread)</td>\n",
       "      <td>(Coffee)</td>\n",
       "      <td>0.327205</td>\n",
       "      <td>0.478394</td>\n",
       "      <td>0.090016</td>\n",
       "      <td>0.275105</td>\n",
       "      <td>0.575059</td>\n",
       "      <td>-0.066517</td>\n",
       "      <td>0.719561</td>\n",
       "      <td>1</td>\n",
       "    </tr>\n",
       "    <tr>\n",
       "      <th>16</th>\n",
       "      <td>(Hot chocolate)</td>\n",
       "      <td>(Cake)</td>\n",
       "      <td>0.058320</td>\n",
       "      <td>0.103856</td>\n",
       "      <td>0.011410</td>\n",
       "      <td>0.195652</td>\n",
       "      <td>1.883874</td>\n",
       "      <td>0.005354</td>\n",
       "      <td>1.114125</td>\n",
       "      <td>1</td>\n",
       "    </tr>\n",
       "  </tbody>\n",
       "</table>\n",
       "</div>"
      ],
      "text/plain": [
       "        antecedents consequents  antecedent support  consequent support  \\\n",
       "12        (Brownie)    (Coffee)            0.040042            0.478394   \n",
       "9          (Pastry)     (Bread)            0.086107            0.327205   \n",
       "23         (Muffin)    (Coffee)            0.038457            0.478394   \n",
       "5           (Bread)    (Coffee)            0.327205            0.478394   \n",
       "16  (Hot chocolate)      (Cake)            0.058320            0.103856   \n",
       "\n",
       "     support  confidence      lift  leverage  conviction  antecedent_len  \n",
       "12  0.019651    0.490765  1.025860  0.000495    1.024293               1  \n",
       "9   0.029160    0.338650  1.034977  0.000985    1.017305               1  \n",
       "23  0.018806    0.489011  1.022193  0.000408    1.020777               1  \n",
       "5   0.090016    0.275105  0.575059 -0.066517    0.719561               1  \n",
       "16  0.011410    0.195652  1.883874  0.005354    1.114125               1  "
      ]
     },
     "execution_count": 28,
     "metadata": {},
     "output_type": "execute_result"
    }
   ],
   "source": [
    "rules[\"antecedent_len\"] = rules[\"antecedents\"].apply(lambda x: len(x))\n",
    "\n",
    "rules.sample(5)"
   ]
  },
  {
   "cell_type": "markdown",
   "id": "adb9788f",
   "metadata": {
    "papermill": {
     "duration": 0.013569,
     "end_time": "2022-07-12T05:56:22.144367",
     "exception": false,
     "start_time": "2022-07-12T05:56:22.130798",
     "status": "completed"
    },
    "tags": []
   },
   "source": [
    "### Select `antecedents` where item frequency is `Sandwich, Bread`"
   ]
  },
  {
   "cell_type": "code",
   "execution_count": 29,
   "id": "4dacd85d",
   "metadata": {
    "execution": {
     "iopub.execute_input": "2022-07-12T05:56:22.174822Z",
     "iopub.status.busy": "2022-07-12T05:56:22.174093Z",
     "iopub.status.idle": "2022-07-12T05:56:22.190099Z",
     "shell.execute_reply": "2022-07-12T05:56:22.188896Z"
    },
    "papermill": {
     "duration": 0.034279,
     "end_time": "2022-07-12T05:56:22.192233",
     "exception": false,
     "start_time": "2022-07-12T05:56:22.157954",
     "status": "completed"
    },
    "tags": []
   },
   "outputs": [
    {
     "data": {
      "text/html": [
       "<div>\n",
       "<style scoped>\n",
       "    .dataframe tbody tr th:only-of-type {\n",
       "        vertical-align: middle;\n",
       "    }\n",
       "\n",
       "    .dataframe tbody tr th {\n",
       "        vertical-align: top;\n",
       "    }\n",
       "\n",
       "    .dataframe thead th {\n",
       "        text-align: right;\n",
       "    }\n",
       "</style>\n",
       "<table border=\"1\" class=\"dataframe\">\n",
       "  <thead>\n",
       "    <tr style=\"text-align: right;\">\n",
       "      <th></th>\n",
       "      <th>antecedents</th>\n",
       "      <th>consequents</th>\n",
       "      <th>antecedent support</th>\n",
       "      <th>consequent support</th>\n",
       "      <th>support</th>\n",
       "      <th>confidence</th>\n",
       "      <th>lift</th>\n",
       "      <th>leverage</th>\n",
       "      <th>conviction</th>\n",
       "      <th>antecedent_len</th>\n",
       "    </tr>\n",
       "  </thead>\n",
       "  <tbody>\n",
       "    <tr>\n",
       "      <th>21</th>\n",
       "      <td>(Juice)</td>\n",
       "      <td>(Coffee)</td>\n",
       "      <td>0.038563</td>\n",
       "      <td>0.478394</td>\n",
       "      <td>0.020602</td>\n",
       "      <td>0.534247</td>\n",
       "      <td>1.11675</td>\n",
       "      <td>0.002154</td>\n",
       "      <td>1.119919</td>\n",
       "      <td>1</td>\n",
       "    </tr>\n",
       "  </tbody>\n",
       "</table>\n",
       "</div>"
      ],
      "text/plain": [
       "   antecedents consequents  antecedent support  consequent support   support  \\\n",
       "21     (Juice)    (Coffee)            0.038563            0.478394  0.020602   \n",
       "\n",
       "    confidence     lift  leverage  conviction  antecedent_len  \n",
       "21    0.534247  1.11675  0.002154    1.119919               1  "
      ]
     },
     "execution_count": 29,
     "metadata": {},
     "output_type": "execute_result"
    }
   ],
   "source": [
    "rules[rules['antecedents'] == {'Juice'}]"
   ]
  },
  {
   "cell_type": "markdown",
   "id": "73129b1d",
   "metadata": {
    "papermill": {
     "duration": 0.014152,
     "end_time": "2022-07-12T05:56:22.220397",
     "exception": false,
     "start_time": "2022-07-12T05:56:22.206245",
     "status": "completed"
    },
    "tags": []
   },
   "source": [
    "### Select `antecedents` where item frequency is `Cake, Hot chocolate`"
   ]
  },
  {
   "cell_type": "code",
   "execution_count": 30,
   "id": "f5e21420",
   "metadata": {
    "execution": {
     "iopub.execute_input": "2022-07-12T05:56:22.250787Z",
     "iopub.status.busy": "2022-07-12T05:56:22.250042Z",
     "iopub.status.idle": "2022-07-12T05:56:22.268375Z",
     "shell.execute_reply": "2022-07-12T05:56:22.267357Z"
    },
    "papermill": {
     "duration": 0.036228,
     "end_time": "2022-07-12T05:56:22.270673",
     "exception": false,
     "start_time": "2022-07-12T05:56:22.234445",
     "status": "completed"
    },
    "tags": []
   },
   "outputs": [
    {
     "data": {
      "text/html": [
       "<div>\n",
       "<style scoped>\n",
       "    .dataframe tbody tr th:only-of-type {\n",
       "        vertical-align: middle;\n",
       "    }\n",
       "\n",
       "    .dataframe tbody tr th {\n",
       "        vertical-align: top;\n",
       "    }\n",
       "\n",
       "    .dataframe thead th {\n",
       "        text-align: right;\n",
       "    }\n",
       "</style>\n",
       "<table border=\"1\" class=\"dataframe\">\n",
       "  <thead>\n",
       "    <tr style=\"text-align: right;\">\n",
       "      <th></th>\n",
       "      <th>antecedents</th>\n",
       "      <th>consequents</th>\n",
       "      <th>antecedent support</th>\n",
       "      <th>consequent support</th>\n",
       "      <th>support</th>\n",
       "      <th>confidence</th>\n",
       "      <th>lift</th>\n",
       "      <th>leverage</th>\n",
       "      <th>conviction</th>\n",
       "      <th>antecedent_len</th>\n",
       "    </tr>\n",
       "  </thead>\n",
       "  <tbody>\n",
       "    <tr>\n",
       "      <th>3</th>\n",
       "      <td>(Cake)</td>\n",
       "      <td>(Bread)</td>\n",
       "      <td>0.103856</td>\n",
       "      <td>0.327205</td>\n",
       "      <td>0.023349</td>\n",
       "      <td>0.224822</td>\n",
       "      <td>0.687097</td>\n",
       "      <td>-0.010633</td>\n",
       "      <td>0.867923</td>\n",
       "      <td>1</td>\n",
       "    </tr>\n",
       "    <tr>\n",
       "      <th>14</th>\n",
       "      <td>(Cake)</td>\n",
       "      <td>(Coffee)</td>\n",
       "      <td>0.103856</td>\n",
       "      <td>0.478394</td>\n",
       "      <td>0.054728</td>\n",
       "      <td>0.526958</td>\n",
       "      <td>1.101515</td>\n",
       "      <td>0.005044</td>\n",
       "      <td>1.102664</td>\n",
       "      <td>1</td>\n",
       "    </tr>\n",
       "    <tr>\n",
       "      <th>15</th>\n",
       "      <td>(Cake)</td>\n",
       "      <td>(Hot chocolate)</td>\n",
       "      <td>0.103856</td>\n",
       "      <td>0.058320</td>\n",
       "      <td>0.011410</td>\n",
       "      <td>0.109868</td>\n",
       "      <td>1.883874</td>\n",
       "      <td>0.005354</td>\n",
       "      <td>1.057910</td>\n",
       "      <td>1</td>\n",
       "    </tr>\n",
       "    <tr>\n",
       "      <th>17</th>\n",
       "      <td>(Cake)</td>\n",
       "      <td>(Tea)</td>\n",
       "      <td>0.103856</td>\n",
       "      <td>0.142631</td>\n",
       "      <td>0.023772</td>\n",
       "      <td>0.228891</td>\n",
       "      <td>1.604781</td>\n",
       "      <td>0.008959</td>\n",
       "      <td>1.111865</td>\n",
       "      <td>1</td>\n",
       "    </tr>\n",
       "  </tbody>\n",
       "</table>\n",
       "</div>"
      ],
      "text/plain": [
       "   antecedents      consequents  antecedent support  consequent support  \\\n",
       "3       (Cake)          (Bread)            0.103856            0.327205   \n",
       "14      (Cake)         (Coffee)            0.103856            0.478394   \n",
       "15      (Cake)  (Hot chocolate)            0.103856            0.058320   \n",
       "17      (Cake)            (Tea)            0.103856            0.142631   \n",
       "\n",
       "     support  confidence      lift  leverage  conviction  antecedent_len  \n",
       "3   0.023349    0.224822  0.687097 -0.010633    0.867923               1  \n",
       "14  0.054728    0.526958  1.101515  0.005044    1.102664               1  \n",
       "15  0.011410    0.109868  1.883874  0.005354    1.057910               1  \n",
       "17  0.023772    0.228891  1.604781  0.008959    1.111865               1  "
      ]
     },
     "execution_count": 30,
     "metadata": {},
     "output_type": "execute_result"
    }
   ],
   "source": [
    "rules[rules['antecedents'] == {'Cake'}]"
   ]
  },
  {
   "cell_type": "code",
   "execution_count": 31,
   "id": "d7f4f468",
   "metadata": {
    "execution": {
     "iopub.execute_input": "2022-07-12T05:56:22.301585Z",
     "iopub.status.busy": "2022-07-12T05:56:22.300581Z",
     "iopub.status.idle": "2022-07-12T05:56:22.318990Z",
     "shell.execute_reply": "2022-07-12T05:56:22.317865Z"
    },
    "papermill": {
     "duration": 0.036253,
     "end_time": "2022-07-12T05:56:22.321156",
     "exception": false,
     "start_time": "2022-07-12T05:56:22.284903",
     "status": "completed"
    },
    "tags": []
   },
   "outputs": [
    {
     "data": {
      "text/html": [
       "<div>\n",
       "<style scoped>\n",
       "    .dataframe tbody tr th:only-of-type {\n",
       "        vertical-align: middle;\n",
       "    }\n",
       "\n",
       "    .dataframe tbody tr th {\n",
       "        vertical-align: top;\n",
       "    }\n",
       "\n",
       "    .dataframe thead th {\n",
       "        text-align: right;\n",
       "    }\n",
       "</style>\n",
       "<table border=\"1\" class=\"dataframe\">\n",
       "  <thead>\n",
       "    <tr style=\"text-align: right;\">\n",
       "      <th></th>\n",
       "      <th>antecedents</th>\n",
       "      <th>consequents</th>\n",
       "      <th>antecedent support</th>\n",
       "      <th>consequent support</th>\n",
       "      <th>support</th>\n",
       "      <th>confidence</th>\n",
       "      <th>lift</th>\n",
       "      <th>leverage</th>\n",
       "      <th>conviction</th>\n",
       "      <th>antecedent_len</th>\n",
       "    </tr>\n",
       "  </thead>\n",
       "  <tbody>\n",
       "    <tr>\n",
       "      <th>10</th>\n",
       "      <td>(Sandwich)</td>\n",
       "      <td>(Bread)</td>\n",
       "      <td>0.071844</td>\n",
       "      <td>0.327205</td>\n",
       "      <td>0.017010</td>\n",
       "      <td>0.236765</td>\n",
       "      <td>0.723596</td>\n",
       "      <td>-0.006498</td>\n",
       "      <td>0.881503</td>\n",
       "      <td>1</td>\n",
       "    </tr>\n",
       "    <tr>\n",
       "      <th>25</th>\n",
       "      <td>(Sandwich)</td>\n",
       "      <td>(Coffee)</td>\n",
       "      <td>0.071844</td>\n",
       "      <td>0.478394</td>\n",
       "      <td>0.038246</td>\n",
       "      <td>0.532353</td>\n",
       "      <td>1.112792</td>\n",
       "      <td>0.003877</td>\n",
       "      <td>1.115384</td>\n",
       "      <td>1</td>\n",
       "    </tr>\n",
       "    <tr>\n",
       "      <th>32</th>\n",
       "      <td>(Sandwich)</td>\n",
       "      <td>(Tea)</td>\n",
       "      <td>0.071844</td>\n",
       "      <td>0.142631</td>\n",
       "      <td>0.014369</td>\n",
       "      <td>0.200000</td>\n",
       "      <td>1.402222</td>\n",
       "      <td>0.004122</td>\n",
       "      <td>1.071712</td>\n",
       "      <td>1</td>\n",
       "    </tr>\n",
       "  </tbody>\n",
       "</table>\n",
       "</div>"
      ],
      "text/plain": [
       "   antecedents consequents  antecedent support  consequent support   support  \\\n",
       "10  (Sandwich)     (Bread)            0.071844            0.327205  0.017010   \n",
       "25  (Sandwich)    (Coffee)            0.071844            0.478394  0.038246   \n",
       "32  (Sandwich)       (Tea)            0.071844            0.142631  0.014369   \n",
       "\n",
       "    confidence      lift  leverage  conviction  antecedent_len  \n",
       "10    0.236765  0.723596 -0.006498    0.881503               1  \n",
       "25    0.532353  1.112792  0.003877    1.115384               1  \n",
       "32    0.200000  1.402222  0.004122    1.071712               1  "
      ]
     },
     "execution_count": 31,
     "metadata": {},
     "output_type": "execute_result"
    }
   ],
   "source": [
    "rules[rules['antecedents'] == {'Sandwich'}]"
   ]
  },
  {
   "cell_type": "code",
   "execution_count": 32,
   "id": "e3462670",
   "metadata": {
    "execution": {
     "iopub.execute_input": "2022-07-12T05:56:22.351627Z",
     "iopub.status.busy": "2022-07-12T05:56:22.351225Z",
     "iopub.status.idle": "2022-07-12T05:56:22.355608Z",
     "shell.execute_reply": "2022-07-12T05:56:22.354528Z"
    },
    "papermill": {
     "duration": 0.022168,
     "end_time": "2022-07-12T05:56:22.357730",
     "exception": false,
     "start_time": "2022-07-12T05:56:22.335562",
     "status": "completed"
    },
    "tags": []
   },
   "outputs": [],
   "source": [
    "#End of code"
   ]
  }
 ],
 "metadata": {
  "kernelspec": {
   "display_name": "Python 3",
   "language": "python",
   "name": "python3"
  },
  "language_info": {
   "codemirror_mode": {
    "name": "ipython",
    "version": 3
   },
   "file_extension": ".py",
   "mimetype": "text/x-python",
   "name": "python",
   "nbconvert_exporter": "python",
   "pygments_lexer": "ipython3",
   "version": "3.7.12"
  },
  "papermill": {
   "default_parameters": {},
   "duration": 15.404303,
   "end_time": "2022-07-12T05:56:23.395597",
   "environment_variables": {},
   "exception": null,
   "input_path": "__notebook__.ipynb",
   "output_path": "__notebook__.ipynb",
   "parameters": {},
   "start_time": "2022-07-12T05:56:07.991294",
   "version": "2.3.4"
  }
 },
 "nbformat": 4,
 "nbformat_minor": 5
}
